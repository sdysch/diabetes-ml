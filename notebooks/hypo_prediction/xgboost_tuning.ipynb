{
 "cells": [
  {
   "cell_type": "markdown",
   "id": "2b49ad0b-7847-493a-969e-955c8f882a98",
   "metadata": {},
   "source": [
    "# XGBoost model"
   ]
  },
  {
   "cell_type": "code",
   "execution_count": 1,
   "id": "62a0bab3-37a4-47ac-bb41-a87a1fb36874",
   "metadata": {},
   "outputs": [],
   "source": [
    "import pandas as pd\n",
    "import numpy as np\n",
    "import matplotlib.pyplot as plt\n",
    "import seaborn as sns"
   ]
  },
  {
   "cell_type": "code",
   "execution_count": 2,
   "id": "003da1a9-e79c-468f-9fd5-c245f559643b",
   "metadata": {},
   "outputs": [],
   "source": [
    "plt.style.use('seaborn')"
   ]
  },
  {
   "cell_type": "markdown",
   "id": "f2e99833-1835-411a-a394-3be14e5ccfc0",
   "metadata": {},
   "source": [
    "# Data preparation"
   ]
  },
  {
   "cell_type": "code",
   "execution_count": 3,
   "id": "d929f16d-4900-4550-8e3b-c6a3f3effc75",
   "metadata": {},
   "outputs": [
    {
     "name": "stderr",
     "output_type": "stream",
     "text": [
      "/home/sdysch/.local/lib/python3.8/site-packages/IPython/core/interactiveshell.py:3169: DtypeWarning: Columns (13) have mixed types.Specify dtype option on import or set low_memory=False.\n",
      "  has_raised = await self.run_ast_nodes(code_ast.body, cell_name,\n"
     ]
    }
   ],
   "source": [
    "data = pd.read_csv('../../data/SamDysch_glucose_2-5-2022.csv', skiprows=[0])\n",
    "data.index = pd.to_datetime(data['Device Timestamp'], format=\"%d-%m-%Y %H:%M\")"
   ]
  },
  {
   "cell_type": "code",
   "execution_count": 4,
   "id": "213a1d1e-e074-4652-9de7-5c67c8eabe73",
   "metadata": {},
   "outputs": [
    {
     "data": {
      "text/html": [
       "<div>\n",
       "<style scoped>\n",
       "    .dataframe tbody tr th:only-of-type {\n",
       "        vertical-align: middle;\n",
       "    }\n",
       "\n",
       "    .dataframe tbody tr th {\n",
       "        vertical-align: top;\n",
       "    }\n",
       "\n",
       "    .dataframe thead th {\n",
       "        text-align: right;\n",
       "    }\n",
       "</style>\n",
       "<table border=\"1\" class=\"dataframe\">\n",
       "  <thead>\n",
       "    <tr style=\"text-align: right;\">\n",
       "      <th></th>\n",
       "      <th>reading</th>\n",
       "    </tr>\n",
       "    <tr>\n",
       "      <th>Device Timestamp</th>\n",
       "      <th></th>\n",
       "    </tr>\n",
       "  </thead>\n",
       "  <tbody>\n",
       "    <tr>\n",
       "      <th>2019-12-09 19:04:00</th>\n",
       "      <td>6.8</td>\n",
       "    </tr>\n",
       "    <tr>\n",
       "      <th>2019-12-09 19:20:00</th>\n",
       "      <td>7.6</td>\n",
       "    </tr>\n",
       "    <tr>\n",
       "      <th>2019-12-09 19:35:00</th>\n",
       "      <td>7.7</td>\n",
       "    </tr>\n",
       "    <tr>\n",
       "      <th>2019-12-09 19:50:00</th>\n",
       "      <td>7.2</td>\n",
       "    </tr>\n",
       "    <tr>\n",
       "      <th>2019-12-09 20:05:00</th>\n",
       "      <td>5.8</td>\n",
       "    </tr>\n",
       "  </tbody>\n",
       "</table>\n",
       "</div>"
      ],
      "text/plain": [
       "                     reading\n",
       "Device Timestamp            \n",
       "2019-12-09 19:04:00      6.8\n",
       "2019-12-09 19:20:00      7.6\n",
       "2019-12-09 19:35:00      7.7\n",
       "2019-12-09 19:50:00      7.2\n",
       "2019-12-09 20:05:00      5.8"
      ]
     },
     "execution_count": 4,
     "metadata": {},
     "output_type": "execute_result"
    }
   ],
   "source": [
    "# drop non-historic glucose records\n",
    "data = data[data['Record Type'] == 0]\n",
    "\n",
    "# only keep bg\n",
    "to_keep = [\n",
    "    'Historic Glucose mmol/L',\n",
    "]\n",
    "data = data[to_keep]\n",
    "\n",
    "data = data.rename(columns={'Historic Glucose mmol/L': 'reading'})\n",
    "\n",
    "data.head()"
   ]
  },
  {
   "cell_type": "code",
   "execution_count": 5,
   "id": "b9366525-6fc9-4035-aa9c-0d04ae839611",
   "metadata": {},
   "outputs": [],
   "source": [
    "# drop NaNs\n",
    "data = data.dropna()"
   ]
  },
  {
   "cell_type": "markdown",
   "id": "273a26dc-f5d7-4db3-8644-836a9aa3520f",
   "metadata": {},
   "source": [
    "# Setup hypo threshold"
   ]
  },
  {
   "cell_type": "code",
   "execution_count": 6,
   "id": "df3e5259-be75-465f-8557-c4b21cfdec2a",
   "metadata": {},
   "outputs": [],
   "source": [
    "HYPO_THRESHOLD = 3.9\n",
    "data['is_hypo'] = (data['reading'] < HYPO_THRESHOLD).astype(int)"
   ]
  },
  {
   "cell_type": "code",
   "execution_count": 7,
   "id": "c091b822-af1d-477a-8e6e-1b72359882e1",
   "metadata": {},
   "outputs": [],
   "source": [
    "# adding some time variables\n",
    "data['hour'] = data.index.hour\n",
    "data['day'] = data.index.dayofweek\n",
    "data['month'] = data.index.month"
   ]
  },
  {
   "cell_type": "markdown",
   "id": "6cb38623-76ac-4eb3-979f-d0c1b9c73aff",
   "metadata": {},
   "source": [
    "# OneHotEncode hours"
   ]
  },
  {
   "cell_type": "code",
   "execution_count": 8,
   "id": "9f49eebf-8525-4d40-8657-87d19172759c",
   "metadata": {},
   "outputs": [
    {
     "name": "stdout",
     "output_type": "stream",
     "text": [
      "Index(['reading', 'is_hypo', 'day', 'month', 'hour_0', 'hour_1', 'hour_2',\n",
      "       'hour_3', 'hour_4', 'hour_5', 'hour_6', 'hour_7', 'hour_8', 'hour_9',\n",
      "       'hour_10', 'hour_11', 'hour_12', 'hour_13', 'hour_14', 'hour_15',\n",
      "       'hour_16', 'hour_17', 'hour_18', 'hour_19', 'hour_20', 'hour_21',\n",
      "       'hour_22', 'hour_23'],\n",
      "      dtype='object')\n"
     ]
    }
   ],
   "source": [
    "data = pd.get_dummies(data, prefix='hour', columns=['hour'])\n",
    "print(data.columns)"
   ]
  },
  {
   "cell_type": "markdown",
   "id": "32b1f8f0-a9cc-41d7-920f-2e7d84082a90",
   "metadata": {
    "tags": []
   },
   "source": [
    "# creating a lagged and rolling variables\n",
    "* Was I hypo 15 mins ago? 30 mins ago? Etc\n",
    "* Rolling average of last N readings\n",
    "* Sign of gradient of last N readings:\n",
    "    * I.e., is BG rising, falling, or stable?\n",
    "    \n",
    "## Lagged features"
   ]
  },
  {
   "cell_type": "code",
   "execution_count": 9,
   "id": "359843e6-8662-4e1a-80cb-d8c445f2bb97",
   "metadata": {},
   "outputs": [
    {
     "name": "stdout",
     "output_type": "stream",
     "text": [
      "Creating lag of 15 minutes\n",
      "Creating lag of 30 minutes\n",
      "Creating lag of 45 minutes\n",
      "Creating lag of 60 minutes\n",
      "Creating lag of 75 minutes\n",
      "Creating lag of 90 minutes\n",
      "Creating lag of 105 minutes\n"
     ]
    }
   ],
   "source": [
    "# create lags\n",
    "# To ensure that we do not make a lag between periods of sensor non-usage, create a new df with the lagged indices & merge onto original data frame\n",
    "def create_lag(df, lag):\n",
    "    tolerance = 15 * lag\n",
    "    freq = '15min'\n",
    "    print(f'Creating lag of {tolerance} minutes')\n",
    "    lagged_copy = df[['reading']].shift(lag, freq=freq)\n",
    "    lagged_copy.rename(columns={'reading': f'lagged_reading_{lag}'}, inplace=True)\n",
    "    \n",
    "    merged = pd.merge_asof(df, lagged_copy, left_index=True, right_index=True, direction='backward', tolerance=pd.Timedelta(minutes=tolerance))\n",
    "    # merged = pd.merge_asof(copy, lagged_copy, left_index=True, right_index=True, direction='backward')\n",
    "    return merged\n",
    "\n",
    "NLAGS = 8\n",
    "for lag in range(1, NLAGS):\n",
    "    data = create_lag(data, lag)"
   ]
  },
  {
   "cell_type": "code",
   "execution_count": 10,
   "id": "23fa784d-f531-49d4-99b7-1e309b79f28b",
   "metadata": {},
   "outputs": [],
   "source": [
    "# For ease of variable calculation, drop the nans\n",
    "data = data.dropna()"
   ]
  },
  {
   "cell_type": "code",
   "execution_count": 11,
   "id": "6d02a6f1-2e92-498d-be54-dbdda05a3868",
   "metadata": {},
   "outputs": [],
   "source": [
    "# lagged hypo bools\n",
    "for lag in range(1, NLAGS):\n",
    "    data[f'is_lagged_hypo_{lag}'] = (data[f'lagged_reading_{lag}'] < HYPO_THRESHOLD).astype(int)"
   ]
  },
  {
   "cell_type": "markdown",
   "id": "604a4d64-7c8b-470d-b92e-f4f8cbe5e0aa",
   "metadata": {},
   "source": [
    "## Rolling features"
   ]
  },
  {
   "cell_type": "code",
   "execution_count": 12,
   "id": "85a1b0d0-82af-4ff5-b78d-59841342bdc8",
   "metadata": {},
   "outputs": [],
   "source": [
    "# simple differences of lags - was reading higher, lower, or stable?\n",
    "for lag in range(2, NLAGS):\n",
    "    data[f'diff_{lag}'] = data['lagged_reading_1'] - data[f'lagged_reading_{lag}']\n",
    "\n",
    "# gradients - how quick is BG changing?\n",
    "interval = 15\n",
    "for lag in range(2, NLAGS):\n",
    "    data[f'rate_{lag}'] = data[f'diff_{lag}'] / (interval * lag)"
   ]
  },
  {
   "cell_type": "markdown",
   "id": "ea8a143a-9724-48c4-b8db-2b97979b4800",
   "metadata": {},
   "source": [
    "## train, test, validation split"
   ]
  },
  {
   "cell_type": "code",
   "execution_count": 13,
   "id": "f003d6b3-3208-40e0-80d4-9cb98f4f32dd",
   "metadata": {},
   "outputs": [],
   "source": [
    "TRAIN_SPLIT = 0.65\n",
    "VAL_SPLIT = 0.2\n",
    "TEST_SPLIT = 0.15"
   ]
  },
  {
   "cell_type": "code",
   "execution_count": 14,
   "id": "385638b2-47bf-4e2c-8d9d-0355b3135aee",
   "metadata": {},
   "outputs": [],
   "source": [
    "itrain = int(TRAIN_SPLIT * len(data))\n",
    "ival = int(VAL_SPLIT * len(data))\n",
    "itest = int(TEST_SPLIT * len(data))\n",
    "\n",
    "train_data = data.iloc[:itrain]\n",
    "val_data = data.iloc[itrain:itrain + ival]\n",
    "test_data = data.iloc[itrain + ival:]"
   ]
  },
  {
   "cell_type": "markdown",
   "id": "980d4ff6-d62a-4bad-9325-29277400b3bc",
   "metadata": {},
   "source": [
    "# Variable selection"
   ]
  },
  {
   "cell_type": "code",
   "execution_count": 15,
   "id": "32cf76ef-979c-41a8-b9ea-ae8f99e6a65f",
   "metadata": {},
   "outputs": [
    {
     "name": "stdout",
     "output_type": "stream",
     "text": [
      "Index(['is_hypo', 'hour_0', 'hour_1', 'hour_2', 'hour_3', 'hour_4', 'hour_5',\n",
      "       'hour_6', 'hour_7', 'hour_8', 'hour_9', 'hour_10', 'hour_11', 'hour_12',\n",
      "       'hour_13', 'hour_14', 'hour_15', 'hour_16', 'hour_17', 'hour_18',\n",
      "       'hour_19', 'hour_20', 'hour_21', 'hour_22', 'hour_23',\n",
      "       'lagged_reading_3', 'lagged_reading_4', 'lagged_reading_5',\n",
      "       'lagged_reading_6', 'lagged_reading_7', 'is_lagged_hypo_3',\n",
      "       'is_lagged_hypo_4', 'is_lagged_hypo_5', 'is_lagged_hypo_6',\n",
      "       'is_lagged_hypo_7'],\n",
      "      dtype='object')\n",
      "Index(['is_hypo', 'hour_0', 'hour_1', 'hour_2', 'hour_3', 'hour_4', 'hour_5',\n",
      "       'hour_6', 'hour_7', 'hour_8', 'hour_9', 'hour_10', 'hour_11', 'hour_12',\n",
      "       'hour_13', 'hour_14', 'hour_15', 'hour_16', 'hour_17', 'hour_18',\n",
      "       'hour_19', 'hour_20', 'hour_21', 'hour_22', 'hour_23',\n",
      "       'lagged_reading_3', 'lagged_reading_4', 'lagged_reading_5',\n",
      "       'lagged_reading_6', 'lagged_reading_7', 'is_lagged_hypo_3',\n",
      "       'is_lagged_hypo_4', 'is_lagged_hypo_5', 'is_lagged_hypo_6',\n",
      "       'is_lagged_hypo_7'],\n",
      "      dtype='object')\n",
      "Index(['is_hypo', 'hour_0', 'hour_1', 'hour_2', 'hour_3', 'hour_4', 'hour_5',\n",
      "       'hour_6', 'hour_7', 'hour_8', 'hour_9', 'hour_10', 'hour_11', 'hour_12',\n",
      "       'hour_13', 'hour_14', 'hour_15', 'hour_16', 'hour_17', 'hour_18',\n",
      "       'hour_19', 'hour_20', 'hour_21', 'hour_22', 'hour_23',\n",
      "       'lagged_reading_3', 'lagged_reading_4', 'lagged_reading_5',\n",
      "       'lagged_reading_6', 'lagged_reading_7', 'is_lagged_hypo_3',\n",
      "       'is_lagged_hypo_4', 'is_lagged_hypo_5', 'is_lagged_hypo_6',\n",
      "       'is_lagged_hypo_7'],\n",
      "      dtype='object')\n"
     ]
    }
   ],
   "source": [
    "rates_and_diffs = [f'diff_{v}' for v in range(2, NLAGS)]\n",
    "rates_and_diffs.extend([f'rate_{v}' for v in range(2, NLAGS)])\n",
    "\n",
    "# to fairly compare with baseline, drop any historical variables with time delta < 45 mins\n",
    "vars_to_drop = [\n",
    "    'month',\n",
    "    'day',\n",
    "    'reading',\n",
    "    'is_lagged_hypo_1',\n",
    "    'is_lagged_hypo_2',\n",
    "    'lagged_reading_1',\n",
    "    'lagged_reading_2',\n",
    "]\n",
    "vars_to_drop.extend(rates_and_diffs)\n",
    "\n",
    "train_data = train_data.drop(vars_to_drop, axis='columns')\n",
    "val_data = val_data.drop(vars_to_drop, axis='columns')\n",
    "test_data = test_data.drop(vars_to_drop, axis='columns')\n",
    "\n",
    "print(train_data.columns)\n",
    "print(val_data.columns)\n",
    "print(test_data.columns)"
   ]
  },
  {
   "cell_type": "code",
   "execution_count": 16,
   "id": "718a6a60-3195-46f8-b777-79e9e5e7bf50",
   "metadata": {},
   "outputs": [
    {
     "name": "stdout",
     "output_type": "stream",
     "text": [
      "Index(['hour_0', 'hour_1', 'hour_2', 'hour_3', 'hour_4', 'hour_5', 'hour_6',\n",
      "       'hour_7', 'hour_8', 'hour_9', 'hour_10', 'hour_11', 'hour_12',\n",
      "       'hour_13', 'hour_14', 'hour_15', 'hour_16', 'hour_17', 'hour_18',\n",
      "       'hour_19', 'hour_20', 'hour_21', 'hour_22', 'hour_23',\n",
      "       'lagged_reading_3', 'lagged_reading_4', 'lagged_reading_5',\n",
      "       'lagged_reading_6', 'lagged_reading_7', 'is_lagged_hypo_3',\n",
      "       'is_lagged_hypo_4', 'is_lagged_hypo_5', 'is_lagged_hypo_6',\n",
      "       'is_lagged_hypo_7'],\n",
      "      dtype='object')\n"
     ]
    }
   ],
   "source": [
    "target = 'is_hypo'\n",
    "\n",
    "X_train = train_data.drop([target], axis='columns')\n",
    "y_train = train_data[target]\n",
    "\n",
    "X_val = val_data.drop(target, axis='columns')\n",
    "y_val = val_data[target]\n",
    "\n",
    "X_test = test_data.drop(target, axis='columns')\n",
    "y_test = test_data[target]\n",
    "\n",
    "print(X_train.columns)"
   ]
  },
  {
   "cell_type": "code",
   "execution_count": 17,
   "id": "ee87c384-7795-44c1-9037-0f2675e5240c",
   "metadata": {},
   "outputs": [],
   "source": [
    "# redefine train = train + validation for cross validation\n",
    "X_train = pd.concat([X_train, X_val])\n",
    "y_train = pd.concat([y_train, y_val])"
   ]
  },
  {
   "cell_type": "code",
   "execution_count": 18,
   "id": "1b607481-d365-4fe3-84c7-83b764902192",
   "metadata": {},
   "outputs": [
    {
     "name": "stdout",
     "output_type": "stream",
     "text": [
      "18.600671140939596\n"
     ]
    }
   ],
   "source": [
    "# class weights\n",
    "xgb_weight = float(y_train[y_train == 0].count()) / y_train[y_train == 1].count()\n",
    "print(xgb_weight)"
   ]
  },
  {
   "cell_type": "markdown",
   "id": "3bda5677-29f3-4d22-9cd2-67101a81d6f8",
   "metadata": {},
   "source": [
    "# objective function setup"
   ]
  },
  {
   "cell_type": "code",
   "execution_count": 19,
   "id": "ecb5fc2d-10f2-4f3d-8ae9-745091285afd",
   "metadata": {},
   "outputs": [],
   "source": [
    "from sklearn.model_selection import TimeSeriesSplit, cross_val_score\n",
    "from sklearn.metrics import fbeta_score, make_scorer\n",
    "from xgboost import XGBClassifier\n",
    "import optuna\n",
    "\n",
    "def objective(trial):\n",
    "    \n",
    "    # hyperparameter space\n",
    "    n_estimators = trial.suggest_int('n_estimators', 10, 300)\n",
    "    max_depth = trial.suggest_int('max_depth', 2, 10)\n",
    "    eta = trial.suggest_categorical('eta', [0.1, 0.15, 0.2, 0.3])\n",
    "    gamma = trial.suggest_int('gamma', 0, 5)\n",
    "\n",
    "    \n",
    "    # define model\n",
    "    model = XGBClassifier(\n",
    "        #verbosity=2,\n",
    "        n_estimators=n_estimators,\n",
    "        eta=eta,\n",
    "        gamma=gamma,\n",
    "        max_depth=max_depth,\n",
    "        reg_lambda=1,\n",
    "        reg_alpha=0,\n",
    "        subsample=0.5,\n",
    "        scale_pos_weight=xgb_weight,\n",
    "        objective='binary:logistic'   \n",
    "    )\n",
    "    \n",
    "    # fit and evaluate model\n",
    "    ftwo_scorer = make_scorer(fbeta_score, beta=2)\n",
    "    splits = TimeSeriesSplit(n_splits=5)\n",
    "    scores = cross_val_score(model, X_train, y_train, cv=splits, scoring=ftwo_scorer)\n",
    "    \n",
    "    return np.mean(scores)"
   ]
  },
  {
   "cell_type": "markdown",
   "id": "20ae40de-68c6-4f5d-9aa8-b2a52306d336",
   "metadata": {},
   "source": [
    "# run optuna trials"
   ]
  },
  {
   "cell_type": "code",
   "execution_count": 20,
   "id": "593e80ec-fbe8-4413-b692-4d38d88ad66e",
   "metadata": {},
   "outputs": [
    {
     "name": "stderr",
     "output_type": "stream",
     "text": [
      "\u001b[32m[I 2022-06-19 11:45:06,371]\u001b[0m A new study created in memory with name: no-name-5c6fa936-b2f1-4ce4-8f38-f496e920f35b\u001b[0m\n",
      "\u001b[32m[I 2022-06-19 11:45:14,471]\u001b[0m Trial 0 finished with value: 0.5233459778757412 and parameters: {'n_estimators': 106, 'max_depth': 9, 'eta': 0.3, 'gamma': 3}. Best is trial 0 with value: 0.5233459778757412.\u001b[0m\n",
      "\u001b[32m[I 2022-06-19 11:45:28,934]\u001b[0m Trial 1 finished with value: 0.5084614068576305 and parameters: {'n_estimators': 229, 'max_depth': 9, 'eta': 0.3, 'gamma': 3}. Best is trial 0 with value: 0.5233459778757412.\u001b[0m\n",
      "\u001b[32m[I 2022-06-19 11:45:31,247]\u001b[0m Trial 2 finished with value: 0.5476066990921328 and parameters: {'n_estimators': 63, 'max_depth': 3, 'eta': 0.2, 'gamma': 2}. Best is trial 2 with value: 0.5476066990921328.\u001b[0m\n",
      "\u001b[32m[I 2022-06-19 11:45:37,867]\u001b[0m Trial 3 finished with value: 0.5448471188013924 and parameters: {'n_estimators': 241, 'max_depth': 2, 'eta': 0.3, 'gamma': 2}. Best is trial 2 with value: 0.5476066990921328.\u001b[0m\n",
      "\u001b[32m[I 2022-06-19 11:45:44,842]\u001b[0m Trial 4 finished with value: 0.5552733487296664 and parameters: {'n_estimators': 207, 'max_depth': 3, 'eta': 0.1, 'gamma': 4}. Best is trial 4 with value: 0.5552733487296664.\u001b[0m\n",
      "\u001b[32m[I 2022-06-19 11:45:51,517]\u001b[0m Trial 5 finished with value: 0.566188862532363 and parameters: {'n_estimators': 80, 'max_depth': 10, 'eta': 0.15, 'gamma': 0}. Best is trial 5 with value: 0.566188862532363.\u001b[0m\n",
      "\u001b[32m[I 2022-06-19 11:45:56,623]\u001b[0m Trial 6 finished with value: 0.5466562137340223 and parameters: {'n_estimators': 188, 'max_depth': 2, 'eta': 0.3, 'gamma': 3}. Best is trial 5 with value: 0.566188862532363.\u001b[0m\n",
      "\u001b[32m[I 2022-06-19 11:46:08,402]\u001b[0m Trial 7 finished with value: 0.5265999494263893 and parameters: {'n_estimators': 169, 'max_depth': 8, 'eta': 0.2, 'gamma': 0}. Best is trial 5 with value: 0.566188862532363.\u001b[0m\n",
      "\u001b[32m[I 2022-06-19 11:46:10,977]\u001b[0m Trial 8 finished with value: 0.5540859908322444 and parameters: {'n_estimators': 61, 'max_depth': 4, 'eta': 0.3, 'gamma': 3}. Best is trial 5 with value: 0.566188862532363.\u001b[0m\n",
      "\u001b[32m[I 2022-06-19 11:46:22,330]\u001b[0m Trial 9 finished with value: 0.5524152681435893 and parameters: {'n_estimators': 294, 'max_depth': 2, 'eta': 0.3, 'gamma': 4}. Best is trial 5 with value: 0.566188862532363.\u001b[0m\n",
      "\u001b[32m[I 2022-06-19 11:46:24,956]\u001b[0m Trial 10 finished with value: 0.558434435075776 and parameters: {'n_estimators': 23, 'max_depth': 6, 'eta': 0.15, 'gamma': 0}. Best is trial 5 with value: 0.566188862532363.\u001b[0m\n",
      "\u001b[32m[I 2022-06-19 11:46:26,620]\u001b[0m Trial 11 finished with value: 0.5586978503889523 and parameters: {'n_estimators': 24, 'max_depth': 6, 'eta': 0.15, 'gamma': 0}. Best is trial 5 with value: 0.566188862532363.\u001b[0m\n",
      "\u001b[32m[I 2022-06-19 11:46:33,335]\u001b[0m Trial 12 finished with value: 0.5691718543808683 and parameters: {'n_estimators': 108, 'max_depth': 6, 'eta': 0.15, 'gamma': 1}. Best is trial 12 with value: 0.5691718543808683.\u001b[0m\n",
      "\u001b[32m[I 2022-06-19 11:46:40,639]\u001b[0m Trial 13 finished with value: 0.5631152544648651 and parameters: {'n_estimators': 117, 'max_depth': 7, 'eta': 0.15, 'gamma': 1}. Best is trial 12 with value: 0.5691718543808683.\u001b[0m\n",
      "\u001b[32m[I 2022-06-19 11:46:51,261]\u001b[0m Trial 14 finished with value: 0.5484463936113956 and parameters: {'n_estimators': 127, 'max_depth': 10, 'eta': 0.15, 'gamma': 1}. Best is trial 12 with value: 0.5691718543808683.\u001b[0m\n",
      "\u001b[32m[I 2022-06-19 11:46:54,764]\u001b[0m Trial 15 finished with value: 0.5659216967884458 and parameters: {'n_estimators': 71, 'max_depth': 5, 'eta': 0.15, 'gamma': 1}. Best is trial 12 with value: 0.5691718543808683.\u001b[0m\n",
      "\u001b[32m[I 2022-06-19 11:47:03,663]\u001b[0m Trial 16 finished with value: 0.576873762319446 and parameters: {'n_estimators': 144, 'max_depth': 7, 'eta': 0.1, 'gamma': 5}. Best is trial 16 with value: 0.576873762319446.\u001b[0m\n",
      "\u001b[32m[I 2022-06-19 11:47:13,085]\u001b[0m Trial 17 finished with value: 0.5758639032346625 and parameters: {'n_estimators': 151, 'max_depth': 7, 'eta': 0.1, 'gamma': 5}. Best is trial 16 with value: 0.576873762319446.\u001b[0m\n",
      "\u001b[32m[I 2022-06-19 11:47:22,590]\u001b[0m Trial 18 finished with value: 0.5760250980266501 and parameters: {'n_estimators': 152, 'max_depth': 7, 'eta': 0.1, 'gamma': 5}. Best is trial 16 with value: 0.576873762319446.\u001b[0m\n",
      "\u001b[32m[I 2022-06-19 11:47:33,159]\u001b[0m Trial 19 finished with value: 0.5740396987836522 and parameters: {'n_estimators': 154, 'max_depth': 8, 'eta': 0.1, 'gamma': 5}. Best is trial 16 with value: 0.576873762319446.\u001b[0m\n",
      "\u001b[32m[I 2022-06-19 11:47:45,895]\u001b[0m Trial 20 finished with value: 0.5765329698799723 and parameters: {'n_estimators': 268, 'max_depth': 5, 'eta': 0.1, 'gamma': 4}. Best is trial 16 with value: 0.576873762319446.\u001b[0m\n",
      "\u001b[32m[I 2022-06-19 11:47:59,131]\u001b[0m Trial 21 finished with value: 0.5663605707560403 and parameters: {'n_estimators': 277, 'max_depth': 5, 'eta': 0.1, 'gamma': 5}. Best is trial 16 with value: 0.576873762319446.\u001b[0m\n",
      "\u001b[32m[I 2022-06-19 11:48:14,867]\u001b[0m Trial 22 finished with value: 0.5671735629314976 and parameters: {'n_estimators': 256, 'max_depth': 7, 'eta': 0.1, 'gamma': 4}. Best is trial 16 with value: 0.576873762319446.\u001b[0m\n",
      "\u001b[32m[I 2022-06-19 11:48:23,434]\u001b[0m Trial 23 finished with value: 0.5742337945917901 and parameters: {'n_estimators': 181, 'max_depth': 5, 'eta': 0.1, 'gamma': 5}. Best is trial 16 with value: 0.576873762319446.\u001b[0m\n",
      "\u001b[32m[I 2022-06-19 11:48:37,283]\u001b[0m Trial 24 finished with value: 0.5735316255308643 and parameters: {'n_estimators': 202, 'max_depth': 8, 'eta': 0.1, 'gamma': 4}. Best is trial 16 with value: 0.576873762319446.\u001b[0m\n",
      "\u001b[32m[I 2022-06-19 11:48:43,317]\u001b[0m Trial 25 finished with value: 0.5669988944964255 and parameters: {'n_estimators': 147, 'max_depth': 4, 'eta': 0.1, 'gamma': 5}. Best is trial 16 with value: 0.576873762319446.\u001b[0m\n",
      "\u001b[32m[I 2022-06-19 11:48:54,967]\u001b[0m Trial 26 finished with value: 0.5689146111877926 and parameters: {'n_estimators': 208, 'max_depth': 6, 'eta': 0.1, 'gamma': 4}. Best is trial 16 with value: 0.576873762319446.\u001b[0m\n",
      "\u001b[32m[I 2022-06-19 11:49:03,795]\u001b[0m Trial 27 finished with value: 0.5780996540040492 and parameters: {'n_estimators': 141, 'max_depth': 7, 'eta': 0.1, 'gamma': 5}. Best is trial 27 with value: 0.5780996540040492.\u001b[0m\n",
      "\u001b[32m[I 2022-06-19 11:49:09,278]\u001b[0m Trial 28 finished with value: 0.5580713283488455 and parameters: {'n_estimators': 134, 'max_depth': 4, 'eta': 0.2, 'gamma': 4}. Best is trial 27 with value: 0.5780996540040492.\u001b[0m\n",
      "\u001b[32m[I 2022-06-19 11:49:16,246]\u001b[0m Trial 29 finished with value: 0.573911435959187 and parameters: {'n_estimators': 92, 'max_depth': 9, 'eta': 0.1, 'gamma': 5}. Best is trial 27 with value: 0.5780996540040492.\u001b[0m\n",
      "\u001b[32m[I 2022-06-19 11:49:24,529]\u001b[0m Trial 30 finished with value: 0.5704775557834664 and parameters: {'n_estimators': 172, 'max_depth': 5, 'eta': 0.1, 'gamma': 4}. Best is trial 27 with value: 0.5780996540040492.\u001b[0m\n",
      "\u001b[32m[I 2022-06-19 11:49:33,000]\u001b[0m Trial 31 finished with value: 0.5764313488755726 and parameters: {'n_estimators': 137, 'max_depth': 7, 'eta': 0.1, 'gamma': 5}. Best is trial 27 with value: 0.5780996540040492.\u001b[0m\n",
      "\u001b[32m[I 2022-06-19 11:49:42,148]\u001b[0m Trial 32 finished with value: 0.5734011015775 and parameters: {'n_estimators': 132, 'max_depth': 8, 'eta': 0.1, 'gamma': 5}. Best is trial 27 with value: 0.5780996540040492.\u001b[0m\n",
      "\u001b[32m[I 2022-06-19 11:49:48,797]\u001b[0m Trial 33 finished with value: 0.57244767227922 and parameters: {'n_estimators': 107, 'max_depth': 7, 'eta': 0.1, 'gamma': 3}. Best is trial 27 with value: 0.5780996540040492.\u001b[0m\n",
      "\u001b[32m[I 2022-06-19 11:50:01,236]\u001b[0m Trial 34 finished with value: 0.5710145304151653 and parameters: {'n_estimators': 229, 'max_depth': 6, 'eta': 0.1, 'gamma': 5}. Best is trial 27 with value: 0.5780996540040492.\u001b[0m\n",
      "\u001b[32m[I 2022-06-19 11:50:08,275]\u001b[0m Trial 35 finished with value: 0.5677913228723629 and parameters: {'n_estimators': 91, 'max_depth': 9, 'eta': 0.2, 'gamma': 4}. Best is trial 27 with value: 0.5780996540040492.\u001b[0m\n",
      "\u001b[32m[I 2022-06-19 11:50:11,428]\u001b[0m Trial 36 finished with value: 0.5679392600268691 and parameters: {'n_estimators': 49, 'max_depth': 7, 'eta': 0.1, 'gamma': 5}. Best is trial 27 with value: 0.5780996540040492.\u001b[0m\n",
      "\u001b[32m[I 2022-06-19 11:50:24,753]\u001b[0m Trial 37 finished with value: 0.5687072468623479 and parameters: {'n_estimators': 194, 'max_depth': 8, 'eta': 0.1, 'gamma': 2}. Best is trial 27 with value: 0.5780996540040492.\u001b[0m\n",
      "\u001b[32m[I 2022-06-19 11:50:35,154]\u001b[0m Trial 38 finished with value: 0.5728276460396 and parameters: {'n_estimators': 220, 'max_depth': 5, 'eta': 0.1, 'gamma': 4}. Best is trial 27 with value: 0.5780996540040492.\u001b[0m\n",
      "\u001b[32m[I 2022-06-19 11:50:44,653]\u001b[0m Trial 39 finished with value: 0.5557901660626701 and parameters: {'n_estimators': 170, 'max_depth': 6, 'eta': 0.2, 'gamma': 5}. Best is trial 27 with value: 0.5780996540040492.\u001b[0m\n",
      "\u001b[32m[I 2022-06-19 11:50:49,257]\u001b[0m Trial 40 finished with value: 0.5558201578985293 and parameters: {'n_estimators': 136, 'max_depth': 3, 'eta': 0.3, 'gamma': 3}. Best is trial 27 with value: 0.5780996540040492.\u001b[0m\n",
      "\u001b[32m[I 2022-06-19 11:50:59,323]\u001b[0m Trial 41 finished with value: 0.5713462417843588 and parameters: {'n_estimators': 163, 'max_depth': 7, 'eta': 0.1, 'gamma': 5}. Best is trial 27 with value: 0.5780996540040492.\u001b[0m\n",
      "\u001b[32m[I 2022-06-19 11:51:08,260]\u001b[0m Trial 42 finished with value: 0.576873762319446 and parameters: {'n_estimators': 144, 'max_depth': 7, 'eta': 0.1, 'gamma': 5}. Best is trial 27 with value: 0.5780996540040492.\u001b[0m\n",
      "\u001b[32m[I 2022-06-19 11:51:16,833]\u001b[0m Trial 43 finished with value: 0.5781247076447062 and parameters: {'n_estimators': 124, 'max_depth': 8, 'eta': 0.1, 'gamma': 4}. Best is trial 43 with value: 0.5781247076447062.\u001b[0m\n",
      "\u001b[32m[I 2022-06-19 11:51:25,970]\u001b[0m Trial 44 finished with value: 0.5775681587567403 and parameters: {'n_estimators': 120, 'max_depth': 9, 'eta': 0.1, 'gamma': 4}. Best is trial 43 with value: 0.5781247076447062.\u001b[0m\n",
      "\u001b[32m[I 2022-06-19 11:51:33,408]\u001b[0m Trial 45 finished with value: 0.5271186048957222 and parameters: {'n_estimators': 96, 'max_depth': 9, 'eta': 0.3, 'gamma': 3}. Best is trial 43 with value: 0.5781247076447062.\u001b[0m\n",
      "\u001b[32m[I 2022-06-19 11:51:44,451]\u001b[0m Trial 46 finished with value: 0.5813863959915769 and parameters: {'n_estimators': 121, 'max_depth': 10, 'eta': 0.1, 'gamma': 4}. Best is trial 46 with value: 0.5813863959915769.\u001b[0m\n",
      "\u001b[32m[I 2022-06-19 11:51:53,426]\u001b[0m Trial 47 finished with value: 0.5809342082227947 and parameters: {'n_estimators': 110, 'max_depth': 10, 'eta': 0.1, 'gamma': 3}. Best is trial 46 with value: 0.5813863959915769.\u001b[0m\n",
      "\u001b[32m[I 2022-06-19 11:52:03,220]\u001b[0m Trial 48 finished with value: 0.5425096550886647 and parameters: {'n_estimators': 118, 'max_depth': 10, 'eta': 0.2, 'gamma': 3}. Best is trial 46 with value: 0.5813863959915769.\u001b[0m\n",
      "\u001b[32m[I 2022-06-19 11:52:12,791]\u001b[0m Trial 49 finished with value: 0.5696367313839978 and parameters: {'n_estimators': 117, 'max_depth': 10, 'eta': 0.1, 'gamma': 2}. Best is trial 46 with value: 0.5813863959915769.\u001b[0m\n",
      "\u001b[32m[I 2022-06-19 11:52:18,933]\u001b[0m Trial 50 finished with value: 0.5339236540938518 and parameters: {'n_estimators': 79, 'max_depth': 9, 'eta': 0.3, 'gamma': 3}. Best is trial 46 with value: 0.5813863959915769.\u001b[0m\n",
      "\u001b[32m[I 2022-06-19 11:52:29,160]\u001b[0m Trial 51 finished with value: 0.5748976680466646 and parameters: {'n_estimators': 125, 'max_depth': 10, 'eta': 0.1, 'gamma': 4}. Best is trial 46 with value: 0.5813863959915769.\u001b[0m\n",
      "\u001b[32m[I 2022-06-19 11:52:36,931]\u001b[0m Trial 52 finished with value: 0.585788329766093 and parameters: {'n_estimators': 103, 'max_depth': 9, 'eta': 0.1, 'gamma': 4}. Best is trial 52 with value: 0.585788329766093.\u001b[0m\n",
      "\u001b[32m[I 2022-06-19 11:52:40,331]\u001b[0m Trial 53 finished with value: 0.5740011829660203 and parameters: {'n_estimators': 44, 'max_depth': 9, 'eta': 0.1, 'gamma': 4}. Best is trial 52 with value: 0.585788329766093.\u001b[0m\n",
      "\u001b[32m[I 2022-06-19 11:52:48,340]\u001b[0m Trial 54 finished with value: 0.5758591420626811 and parameters: {'n_estimators': 97, 'max_depth': 10, 'eta': 0.1, 'gamma': 3}. Best is trial 52 with value: 0.585788329766093.\u001b[0m\n",
      "\u001b[32m[I 2022-06-19 11:52:56,086]\u001b[0m Trial 55 finished with value: 0.5769457854321717 and parameters: {'n_estimators': 109, 'max_depth': 8, 'eta': 0.1, 'gamma': 2}. Best is trial 52 with value: 0.585788329766093.\u001b[0m\n",
      "\u001b[32m[I 2022-06-19 11:53:04,922]\u001b[0m Trial 56 finished with value: 0.5648933825986256 and parameters: {'n_estimators': 116, 'max_depth': 9, 'eta': 0.15, 'gamma': 4}. Best is trial 52 with value: 0.585788329766093.\u001b[0m\n",
      "\u001b[32m[I 2022-06-19 11:53:11,435]\u001b[0m Trial 57 finished with value: 0.5797946275626144 and parameters: {'n_estimators': 80, 'max_depth': 10, 'eta': 0.1, 'gamma': 4}. Best is trial 52 with value: 0.585788329766093.\u001b[0m\n",
      "\u001b[32m[I 2022-06-19 11:53:17,226]\u001b[0m Trial 58 finished with value: 0.5770360613670794 and parameters: {'n_estimators': 71, 'max_depth': 10, 'eta': 0.1, 'gamma': 4}. Best is trial 52 with value: 0.585788329766093.\u001b[0m\n",
      "\u001b[32m[I 2022-06-19 11:53:21,793]\u001b[0m Trial 59 finished with value: 0.5805249809511019 and parameters: {'n_estimators': 56, 'max_depth': 10, 'eta': 0.1, 'gamma': 3}. Best is trial 52 with value: 0.585788329766093.\u001b[0m\n",
      "\u001b[32m[I 2022-06-19 11:53:26,410]\u001b[0m Trial 60 finished with value: 0.5805249809511019 and parameters: {'n_estimators': 56, 'max_depth': 10, 'eta': 0.1, 'gamma': 3}. Best is trial 52 with value: 0.585788329766093.\u001b[0m\n",
      "\u001b[32m[I 2022-06-19 11:53:29,253]\u001b[0m Trial 61 finished with value: 0.5726311921576813 and parameters: {'n_estimators': 33, 'max_depth': 10, 'eta': 0.1, 'gamma': 3}. Best is trial 52 with value: 0.585788329766093.\u001b[0m\n",
      "\u001b[32m[I 2022-06-19 11:53:34,005]\u001b[0m Trial 62 finished with value: 0.5812701291331834 and parameters: {'n_estimators': 58, 'max_depth': 10, 'eta': 0.1, 'gamma': 3}. Best is trial 52 with value: 0.585788329766093.\u001b[0m\n",
      "\u001b[32m[I 2022-06-19 11:53:38,429]\u001b[0m Trial 63 finished with value: 0.5781609926914322 and parameters: {'n_estimators': 54, 'max_depth': 10, 'eta': 0.1, 'gamma': 2}. Best is trial 52 with value: 0.585788329766093.\u001b[0m\n",
      "\u001b[32m[I 2022-06-19 11:53:43,437]\u001b[0m Trial 64 finished with value: 0.5784994910580806 and parameters: {'n_estimators': 61, 'max_depth': 10, 'eta': 0.1, 'gamma': 3}. Best is trial 52 with value: 0.585788329766093.\u001b[0m\n",
      "\u001b[32m[I 2022-06-19 11:53:44,721]\u001b[0m Trial 65 finished with value: 0.5782475797860823 and parameters: {'n_estimators': 13, 'max_depth': 10, 'eta': 0.15, 'gamma': 3}. Best is trial 52 with value: 0.585788329766093.\u001b[0m\n",
      "\u001b[32m[I 2022-06-19 11:53:50,653]\u001b[0m Trial 66 finished with value: 0.5726406205864465 and parameters: {'n_estimators': 73, 'max_depth': 10, 'eta': 0.1, 'gamma': 2}. Best is trial 52 with value: 0.585788329766093.\u001b[0m\n",
      "\u001b[32m[I 2022-06-19 11:53:54,187]\u001b[0m Trial 67 finished with value: 0.5703327633840904 and parameters: {'n_estimators': 38, 'max_depth': 9, 'eta': 0.1, 'gamma': 3}. Best is trial 52 with value: 0.585788329766093.\u001b[0m\n",
      "\u001b[32m[I 2022-06-19 11:54:01,740]\u001b[0m Trial 68 finished with value: 0.5359741072655249 and parameters: {'n_estimators': 85, 'max_depth': 10, 'eta': 0.3, 'gamma': 3}. Best is trial 52 with value: 0.585788329766093.\u001b[0m\n",
      "\u001b[32m[I 2022-06-19 11:54:07,041]\u001b[0m Trial 69 finished with value: 0.578562830759817 and parameters: {'n_estimators': 65, 'max_depth': 10, 'eta': 0.1, 'gamma': 3}. Best is trial 52 with value: 0.585788329766093.\u001b[0m\n",
      "\u001b[32m[I 2022-06-19 11:54:13,291]\u001b[0m Trial 70 finished with value: 0.5737713156694877 and parameters: {'n_estimators': 82, 'max_depth': 9, 'eta': 0.1, 'gamma': 2}. Best is trial 52 with value: 0.585788329766093.\u001b[0m\n",
      "\u001b[32m[I 2022-06-19 11:54:18,291]\u001b[0m Trial 71 finished with value: 0.5784994910580806 and parameters: {'n_estimators': 61, 'max_depth': 10, 'eta': 0.1, 'gamma': 3}. Best is trial 52 with value: 0.585788329766093.\u001b[0m\n",
      "\u001b[32m[I 2022-06-19 11:54:20,673]\u001b[0m Trial 72 finished with value: 0.5739787220248156 and parameters: {'n_estimators': 27, 'max_depth': 10, 'eta': 0.1, 'gamma': 3}. Best is trial 52 with value: 0.585788329766093.\u001b[0m\n",
      "\u001b[32m[I 2022-06-19 11:54:25,006]\u001b[0m Trial 73 finished with value: 0.5801970071946339 and parameters: {'n_estimators': 53, 'max_depth': 10, 'eta': 0.1, 'gamma': 3}. Best is trial 52 with value: 0.585788329766093.\u001b[0m\n",
      "\u001b[32m[I 2022-06-19 11:54:28,697]\u001b[0m Trial 74 finished with value: 0.5736071822438781 and parameters: {'n_estimators': 48, 'max_depth': 9, 'eta': 0.1, 'gamma': 3}. Best is trial 52 with value: 0.585788329766093.\u001b[0m\n",
      "\u001b[32m[I 2022-06-19 11:54:37,192]\u001b[0m Trial 75 finished with value: 0.5422091410983216 and parameters: {'n_estimators': 102, 'max_depth': 10, 'eta': 0.2, 'gamma': 4}. Best is trial 52 with value: 0.585788329766093.\u001b[0m\n",
      "\u001b[32m[I 2022-06-19 11:54:41,565]\u001b[0m Trial 76 finished with value: 0.5776943150247826 and parameters: {'n_estimators': 57, 'max_depth': 9, 'eta': 0.1, 'gamma': 3}. Best is trial 52 with value: 0.585788329766093.\u001b[0m\n",
      "\u001b[32m[I 2022-06-19 11:54:44,943]\u001b[0m Trial 77 finished with value: 0.5782287128613698 and parameters: {'n_estimators': 40, 'max_depth': 10, 'eta': 0.1, 'gamma': 4}. Best is trial 52 with value: 0.585788329766093.\u001b[0m\n",
      "\u001b[32m[I 2022-06-19 11:54:52,147]\u001b[0m Trial 78 finished with value: 0.5794238960869798 and parameters: {'n_estimators': 88, 'max_depth': 10, 'eta': 0.1, 'gamma': 3}. Best is trial 52 with value: 0.585788329766093.\u001b[0m\n",
      "\u001b[32m[I 2022-06-19 11:54:57,766]\u001b[0m Trial 79 finished with value: 0.5651145781947602 and parameters: {'n_estimators': 72, 'max_depth': 9, 'eta': 0.15, 'gamma': 3}. Best is trial 52 with value: 0.585788329766093.\u001b[0m\n",
      "\u001b[32m[I 2022-06-19 11:54:59,376]\u001b[0m Trial 80 finished with value: 0.5754267057046386 and parameters: {'n_estimators': 17, 'max_depth': 10, 'eta': 0.1, 'gamma': 2}. Best is trial 52 with value: 0.585788329766093.\u001b[0m\n",
      "\u001b[32m[I 2022-06-19 11:55:06,918]\u001b[0m Trial 81 finished with value: 0.5806837472466838 and parameters: {'n_estimators': 92, 'max_depth': 10, 'eta': 0.1, 'gamma': 3}. Best is trial 52 with value: 0.585788329766093.\u001b[0m\n",
      "\u001b[32m[I 2022-06-19 11:55:13,439]\u001b[0m Trial 82 finished with value: 0.5766926679993785 and parameters: {'n_estimators': 80, 'max_depth': 10, 'eta': 0.1, 'gamma': 3}. Best is trial 52 with value: 0.585788329766093.\u001b[0m\n",
      "\u001b[32m[I 2022-06-19 11:55:21,085]\u001b[0m Trial 83 finished with value: 0.5864302842962166 and parameters: {'n_estimators': 101, 'max_depth': 9, 'eta': 0.1, 'gamma': 4}. Best is trial 83 with value: 0.5864302842962166.\u001b[0m\n",
      "\u001b[32m[I 2022-06-19 11:55:29,483]\u001b[0m Trial 84 finished with value: 0.5756018999162249 and parameters: {'n_estimators': 111, 'max_depth': 9, 'eta': 0.1, 'gamma': 3}. Best is trial 83 with value: 0.5864302842962166.\u001b[0m\n",
      "\u001b[32m[I 2022-06-19 11:55:37,103]\u001b[0m Trial 85 finished with value: 0.5763914869270245 and parameters: {'n_estimators': 101, 'max_depth': 9, 'eta': 0.1, 'gamma': 3}. Best is trial 83 with value: 0.5864302842962166.\u001b[0m\n",
      "\u001b[32m[I 2022-06-19 11:55:39,875]\u001b[0m Trial 86 finished with value: 0.5758872686162206 and parameters: {'n_estimators': 32, 'max_depth': 10, 'eta': 0.1, 'gamma': 4}. Best is trial 83 with value: 0.5864302842962166.\u001b[0m\n",
      "\u001b[32m[I 2022-06-19 11:55:44,969]\u001b[0m Trial 87 finished with value: 0.5813459628249624 and parameters: {'n_estimators': 66, 'max_depth': 9, 'eta': 0.1, 'gamma': 4}. Best is trial 83 with value: 0.5864302842962166.\u001b[0m\n",
      "\u001b[32m[I 2022-06-19 11:55:49,662]\u001b[0m Trial 88 finished with value: 0.5670327737233634 and parameters: {'n_estimators': 66, 'max_depth': 8, 'eta': 0.2, 'gamma': 4}. Best is trial 83 with value: 0.5864302842962166.\u001b[0m\n",
      "\u001b[32m[I 2022-06-19 11:55:56,579]\u001b[0m Trial 89 finished with value: 0.5812947830325206 and parameters: {'n_estimators': 91, 'max_depth': 9, 'eta': 0.1, 'gamma': 4}. Best is trial 83 with value: 0.5864302842962166.\u001b[0m\n",
      "\u001b[32m[I 2022-06-19 11:56:03,813]\u001b[0m Trial 90 finished with value: 0.5476894864095471 and parameters: {'n_estimators': 103, 'max_depth': 8, 'eta': 0.3, 'gamma': 4}. Best is trial 83 with value: 0.5864302842962166.\u001b[0m\n",
      "\u001b[32m[I 2022-06-19 11:56:10,762]\u001b[0m Trial 91 finished with value: 0.583164053910859 and parameters: {'n_estimators': 92, 'max_depth': 9, 'eta': 0.1, 'gamma': 4}. Best is trial 83 with value: 0.5864302842962166.\u001b[0m\n",
      "\u001b[32m[I 2022-06-19 11:56:17,707]\u001b[0m Trial 92 finished with value: 0.583164053910859 and parameters: {'n_estimators': 92, 'max_depth': 9, 'eta': 0.1, 'gamma': 4}. Best is trial 83 with value: 0.5864302842962166.\u001b[0m\n",
      "\u001b[32m[I 2022-06-19 11:56:24,634]\u001b[0m Trial 93 finished with value: 0.5805577603887816 and parameters: {'n_estimators': 90, 'max_depth': 9, 'eta': 0.1, 'gamma': 4}. Best is trial 83 with value: 0.5864302842962166.\u001b[0m\n",
      "\u001b[32m[I 2022-06-19 11:56:33,270]\u001b[0m Trial 94 finished with value: 0.5851456340476002 and parameters: {'n_estimators': 97, 'max_depth': 9, 'eta': 0.1, 'gamma': 4}. Best is trial 83 with value: 0.5864302842962166.\u001b[0m\n",
      "\u001b[32m[I 2022-06-19 11:56:41,452]\u001b[0m Trial 95 finished with value: 0.5743891861113147 and parameters: {'n_estimators': 112, 'max_depth': 8, 'eta': 0.1, 'gamma': 4}. Best is trial 83 with value: 0.5864302842962166.\u001b[0m\n",
      "\u001b[32m[I 2022-06-19 11:56:48,685]\u001b[0m Trial 96 finished with value: 0.5840878814155008 and parameters: {'n_estimators': 95, 'max_depth': 9, 'eta': 0.1, 'gamma': 4}. Best is trial 83 with value: 0.5864302842962166.\u001b[0m\n",
      "\u001b[32m[I 2022-06-19 11:56:55,997]\u001b[0m Trial 97 finished with value: 0.5846763553057734 and parameters: {'n_estimators': 96, 'max_depth': 9, 'eta': 0.1, 'gamma': 4}. Best is trial 83 with value: 0.5864302842962166.\u001b[0m\n",
      "\u001b[32m[I 2022-06-19 11:57:03,443]\u001b[0m Trial 98 finished with value: 0.5832053972404299 and parameters: {'n_estimators': 98, 'max_depth': 9, 'eta': 0.1, 'gamma': 4}. Best is trial 83 with value: 0.5864302842962166.\u001b[0m\n",
      "\u001b[32m[I 2022-06-19 11:57:10,981]\u001b[0m Trial 99 finished with value: 0.583416605169472 and parameters: {'n_estimators': 99, 'max_depth': 9, 'eta': 0.1, 'gamma': 4}. Best is trial 83 with value: 0.5864302842962166.\u001b[0m\n",
      "\u001b[32m[I 2022-06-19 11:57:20,035]\u001b[0m Trial 100 finished with value: 0.5635839538889608 and parameters: {'n_estimators': 130, 'max_depth': 8, 'eta': 0.15, 'gamma': 4}. Best is trial 83 with value: 0.5864302842962166.\u001b[0m\n",
      "\u001b[32m[I 2022-06-19 11:57:27,643]\u001b[0m Trial 101 finished with value: 0.5832053972404299 and parameters: {'n_estimators': 98, 'max_depth': 9, 'eta': 0.1, 'gamma': 4}. Best is trial 83 with value: 0.5864302842962166.\u001b[0m\n",
      "\u001b[32m[I 2022-06-19 11:57:34,923]\u001b[0m Trial 102 finished with value: 0.5846763553057734 and parameters: {'n_estimators': 96, 'max_depth': 9, 'eta': 0.1, 'gamma': 4}. Best is trial 83 with value: 0.5864302842962166.\u001b[0m\n",
      "\u001b[32m[I 2022-06-19 11:57:42,290]\u001b[0m Trial 103 finished with value: 0.5851456340476002 and parameters: {'n_estimators': 97, 'max_depth': 9, 'eta': 0.1, 'gamma': 4}. Best is trial 83 with value: 0.5864302842962166.\u001b[0m\n",
      "\u001b[32m[I 2022-06-19 11:57:50,327]\u001b[0m Trial 104 finished with value: 0.5855023707954725 and parameters: {'n_estimators': 106, 'max_depth': 9, 'eta': 0.1, 'gamma': 4}. Best is trial 83 with value: 0.5864302842962166.\u001b[0m\n",
      "\u001b[32m[I 2022-06-19 11:57:57,112]\u001b[0m Trial 105 finished with value: 0.5854535759110716 and parameters: {'n_estimators': 97, 'max_depth': 8, 'eta': 0.1, 'gamma': 4}. Best is trial 83 with value: 0.5864302842962166.\u001b[0m\n",
      "\u001b[32m[I 2022-06-19 11:58:04,393]\u001b[0m Trial 106 finished with value: 0.5805705441535776 and parameters: {'n_estimators': 105, 'max_depth': 8, 'eta': 0.1, 'gamma': 4}. Best is trial 83 with value: 0.5864302842962166.\u001b[0m\n",
      "\u001b[32m[I 2022-06-19 11:58:10,235]\u001b[0m Trial 107 finished with value: 0.582435207372198 and parameters: {'n_estimators': 77, 'max_depth': 9, 'eta': 0.1, 'gamma': 4}. Best is trial 83 with value: 0.5864302842962166.\u001b[0m\n",
      "\u001b[32m[I 2022-06-19 11:58:17,664]\u001b[0m Trial 108 finished with value: 0.5832053972404299 and parameters: {'n_estimators': 98, 'max_depth': 9, 'eta': 0.1, 'gamma': 4}. Best is trial 83 with value: 0.5864302842962166.\u001b[0m\n",
      "\u001b[32m[I 2022-06-19 11:58:25,575]\u001b[0m Trial 109 finished with value: 0.5749587275924194 and parameters: {'n_estimators': 114, 'max_depth': 8, 'eta': 0.1, 'gamma': 4}. Best is trial 83 with value: 0.5864302842962166.\u001b[0m\n",
      "\u001b[32m[I 2022-06-19 11:58:32,112]\u001b[0m Trial 110 finished with value: 0.5369988677121972 and parameters: {'n_estimators': 84, 'max_depth': 9, 'eta': 0.3, 'gamma': 4}. Best is trial 83 with value: 0.5864302842962166.\u001b[0m\n",
      "\u001b[32m[I 2022-06-19 11:58:39,571]\u001b[0m Trial 111 finished with value: 0.5832053972404299 and parameters: {'n_estimators': 98, 'max_depth': 9, 'eta': 0.1, 'gamma': 4}. Best is trial 83 with value: 0.5864302842962166.\u001b[0m\n",
      "\u001b[32m[I 2022-06-19 11:58:47,581]\u001b[0m Trial 112 finished with value: 0.5855849828607403 and parameters: {'n_estimators': 105, 'max_depth': 9, 'eta': 0.1, 'gamma': 4}. Best is trial 83 with value: 0.5864302842962166.\u001b[0m\n",
      "\u001b[32m[I 2022-06-19 11:58:55,812]\u001b[0m Trial 113 finished with value: 0.5855023707954725 and parameters: {'n_estimators': 106, 'max_depth': 9, 'eta': 0.1, 'gamma': 4}. Best is trial 83 with value: 0.5864302842962166.\u001b[0m\n",
      "\u001b[32m[I 2022-06-19 11:59:03,342]\u001b[0m Trial 114 finished with value: 0.5812083336951523 and parameters: {'n_estimators': 107, 'max_depth': 8, 'eta': 0.1, 'gamma': 4}. Best is trial 83 with value: 0.5864302842962166.\u001b[0m\n",
      "\u001b[32m[I 2022-06-19 11:59:12,860]\u001b[0m Trial 115 finished with value: 0.5798232209420775 and parameters: {'n_estimators': 125, 'max_depth': 9, 'eta': 0.1, 'gamma': 4}. Best is trial 83 with value: 0.5864302842962166.\u001b[0m\n",
      "\u001b[32m[I 2022-06-19 11:59:22,040]\u001b[0m Trial 116 finished with value: 0.5771981343167385 and parameters: {'n_estimators': 121, 'max_depth': 9, 'eta': 0.1, 'gamma': 4}. Best is trial 83 with value: 0.5864302842962166.\u001b[0m\n",
      "\u001b[32m[I 2022-06-19 11:59:30,266]\u001b[0m Trial 117 finished with value: 0.5488572331092674 and parameters: {'n_estimators': 106, 'max_depth': 9, 'eta': 0.2, 'gamma': 5}. Best is trial 83 with value: 0.5864302842962166.\u001b[0m\n",
      "\u001b[32m[I 2022-06-19 11:59:38,195]\u001b[0m Trial 118 finished with value: 0.5749587275924194 and parameters: {'n_estimators': 114, 'max_depth': 8, 'eta': 0.1, 'gamma': 4}. Best is trial 83 with value: 0.5864302842962166.\u001b[0m\n",
      "\u001b[32m[I 2022-06-19 11:59:44,854]\u001b[0m Trial 119 finished with value: 0.582021841535249 and parameters: {'n_estimators': 87, 'max_depth': 9, 'eta': 0.1, 'gamma': 4}. Best is trial 83 with value: 0.5864302842962166.\u001b[0m\n",
      "\u001b[32m[I 2022-06-19 11:59:55,328]\u001b[0m Trial 120 finished with value: 0.5731807606402728 and parameters: {'n_estimators': 138, 'max_depth': 9, 'eta': 0.1, 'gamma': 4}. Best is trial 83 with value: 0.5864302842962166.\u001b[0m\n",
      "\u001b[32m[I 2022-06-19 12:00:02,733]\u001b[0m Trial 121 finished with value: 0.5846763553057734 and parameters: {'n_estimators': 96, 'max_depth': 9, 'eta': 0.1, 'gamma': 4}. Best is trial 83 with value: 0.5864302842962166.\u001b[0m\n",
      "\u001b[32m[I 2022-06-19 12:00:09,299]\u001b[0m Trial 122 finished with value: 0.5791905437935384 and parameters: {'n_estimators': 85, 'max_depth': 9, 'eta': 0.1, 'gamma': 4}. Best is trial 83 with value: 0.5864302842962166.\u001b[0m\n",
      "\u001b[32m[I 2022-06-19 12:00:15,086]\u001b[0m Trial 123 finished with value: 0.5854629632240395 and parameters: {'n_estimators': 76, 'max_depth': 9, 'eta': 0.1, 'gamma': 4}. Best is trial 83 with value: 0.5864302842962166.\u001b[0m\n",
      "\u001b[32m[I 2022-06-19 12:00:20,566]\u001b[0m Trial 124 finished with value: 0.5802260037514684 and parameters: {'n_estimators': 78, 'max_depth': 8, 'eta': 0.1, 'gamma': 4}. Best is trial 83 with value: 0.5864302842962166.\u001b[0m\n",
      "\u001b[32m[I 2022-06-19 12:00:28,446]\u001b[0m Trial 125 finished with value: 0.5865618629163871 and parameters: {'n_estimators': 104, 'max_depth': 9, 'eta': 0.1, 'gamma': 4}. Best is trial 125 with value: 0.5865618629163871.\u001b[0m\n",
      "\u001b[32m[I 2022-06-19 12:00:36,726]\u001b[0m Trial 126 finished with value: 0.5838975735145758 and parameters: {'n_estimators': 108, 'max_depth': 9, 'eta': 0.1, 'gamma': 4}. Best is trial 125 with value: 0.5865618629163871.\u001b[0m\n",
      "\u001b[32m[I 2022-06-19 12:00:42,315]\u001b[0m Trial 127 finished with value: 0.5815346724307356 and parameters: {'n_estimators': 73, 'max_depth': 9, 'eta': 0.1, 'gamma': 4}. Best is trial 125 with value: 0.5865618629163871.\u001b[0m\n",
      "\u001b[32m[I 2022-06-19 12:00:51,250]\u001b[0m Trial 128 finished with value: 0.5711807228718844 and parameters: {'n_estimators': 129, 'max_depth': 8, 'eta': 0.1, 'gamma': 4}. Best is trial 125 with value: 0.5865618629163871.\u001b[0m\n",
      "\u001b[32m[I 2022-06-19 12:01:00,037]\u001b[0m Trial 129 finished with value: 0.574650028635918 and parameters: {'n_estimators': 116, 'max_depth': 9, 'eta': 0.1, 'gamma': 5}. Best is trial 125 with value: 0.5865618629163871.\u001b[0m\n",
      "\u001b[32m[I 2022-06-19 12:01:08,043]\u001b[0m Trial 130 finished with value: 0.566170452230154 and parameters: {'n_estimators': 104, 'max_depth': 9, 'eta': 0.15, 'gamma': 4}. Best is trial 125 with value: 0.5865618629163871.\u001b[0m\n",
      "\u001b[32m[I 2022-06-19 12:01:15,220]\u001b[0m Trial 131 finished with value: 0.5867919250799124 and parameters: {'n_estimators': 94, 'max_depth': 9, 'eta': 0.1, 'gamma': 4}. Best is trial 131 with value: 0.5867919250799124.\u001b[0m\n",
      "\u001b[32m[I 2022-06-19 12:01:21,751]\u001b[0m Trial 132 finished with value: 0.582391931870658 and parameters: {'n_estimators': 86, 'max_depth': 9, 'eta': 0.1, 'gamma': 4}. Best is trial 131 with value: 0.5867919250799124.\u001b[0m\n",
      "\u001b[32m[I 2022-06-19 12:01:29,644]\u001b[0m Trial 133 finished with value: 0.5722855004873996 and parameters: {'n_estimators': 103, 'max_depth': 9, 'eta': 0.1, 'gamma': 0}. Best is trial 131 with value: 0.5867919250799124.\u001b[0m\n",
      "\u001b[32m[I 2022-06-19 12:01:38,023]\u001b[0m Trial 134 finished with value: 0.5805066823743579 and parameters: {'n_estimators': 110, 'max_depth': 9, 'eta': 0.1, 'gamma': 4}. Best is trial 131 with value: 0.5867919250799124.\u001b[0m\n",
      "\u001b[32m[I 2022-06-19 12:01:46,300]\u001b[0m Trial 135 finished with value: 0.5836319019925245 and parameters: {'n_estimators': 93, 'max_depth': 9, 'eta': 0.1, 'gamma': 4}. Best is trial 131 with value: 0.5867919250799124.\u001b[0m\n",
      "\u001b[32m[I 2022-06-19 12:01:55,369]\u001b[0m Trial 136 finished with value: 0.5775681587567403 and parameters: {'n_estimators': 120, 'max_depth': 9, 'eta': 0.1, 'gamma': 4}. Best is trial 131 with value: 0.5867919250799124.\u001b[0m\n",
      "\u001b[32m[I 2022-06-19 12:01:57,532]\u001b[0m Trial 137 finished with value: 0.5247537987766346 and parameters: {'n_estimators': 76, 'max_depth': 2, 'eta': 0.1, 'gamma': 4}. Best is trial 131 with value: 0.5867919250799124.\u001b[0m\n",
      "\u001b[32m[I 2022-06-19 12:02:03,338]\u001b[0m Trial 138 finished with value: 0.5819691046302296 and parameters: {'n_estimators': 84, 'max_depth': 8, 'eta': 0.1, 'gamma': 4}. Best is trial 131 with value: 0.5867919250799124.\u001b[0m\n",
      "\u001b[32m[I 2022-06-19 12:02:11,171]\u001b[0m Trial 139 finished with value: 0.5660914569083022 and parameters: {'n_estimators': 102, 'max_depth': 9, 'eta': 0.2, 'gamma': 4}. Best is trial 131 with value: 0.5867919250799124.\u001b[0m\n",
      "\u001b[32m[I 2022-06-19 12:02:14,423]\u001b[0m Trial 140 finished with value: 0.5483408715775004 and parameters: {'n_estimators': 94, 'max_depth': 3, 'eta': 0.3, 'gamma': 4}. Best is trial 131 with value: 0.5867919250799124.\u001b[0m\n",
      "\u001b[32m[I 2022-06-19 12:02:21,672]\u001b[0m Trial 141 finished with value: 0.5846763553057734 and parameters: {'n_estimators': 96, 'max_depth': 9, 'eta': 0.1, 'gamma': 4}. Best is trial 131 with value: 0.5867919250799124.\u001b[0m\n",
      "\u001b[32m[I 2022-06-19 12:02:30,098]\u001b[0m Trial 142 finished with value: 0.5805066823743579 and parameters: {'n_estimators': 110, 'max_depth': 9, 'eta': 0.1, 'gamma': 4}. Best is trial 131 with value: 0.5867919250799124.\u001b[0m\n",
      "\u001b[32m[I 2022-06-19 12:02:36,770]\u001b[0m Trial 143 finished with value: 0.5813535310392379 and parameters: {'n_estimators': 88, 'max_depth': 9, 'eta': 0.1, 'gamma': 4}. Best is trial 131 with value: 0.5867919250799124.\u001b[0m\n",
      "\u001b[32m[I 2022-06-19 12:02:44,176]\u001b[0m Trial 144 finished with value: 0.5851456340476002 and parameters: {'n_estimators': 97, 'max_depth': 9, 'eta': 0.1, 'gamma': 4}. Best is trial 131 with value: 0.5867919250799124.\u001b[0m\n",
      "\u001b[32m[I 2022-06-19 12:02:50,385]\u001b[0m Trial 145 finished with value: 0.5783086712744427 and parameters: {'n_estimators': 82, 'max_depth': 9, 'eta': 0.1, 'gamma': 4}. Best is trial 131 with value: 0.5867919250799124.\u001b[0m\n",
      "\u001b[32m[I 2022-06-19 12:02:58,087]\u001b[0m Trial 146 finished with value: 0.5786537854681448 and parameters: {'n_estimators': 102, 'max_depth': 9, 'eta': 0.1, 'gamma': 1}. Best is trial 131 with value: 0.5867919250799124.\u001b[0m\n",
      "\u001b[32m[I 2022-06-19 12:03:06,809]\u001b[0m Trial 147 finished with value: 0.5796419992427383 and parameters: {'n_estimators': 115, 'max_depth': 9, 'eta': 0.1, 'gamma': 4}. Best is trial 131 with value: 0.5867919250799124.\u001b[0m\n",
      "\u001b[32m[I 2022-06-19 12:03:13,046]\u001b[0m Trial 148 finished with value: 0.5864386823893858 and parameters: {'n_estimators': 90, 'max_depth': 8, 'eta': 0.1, 'gamma': 4}. Best is trial 131 with value: 0.5867919250799124.\u001b[0m\n",
      "\u001b[32m[I 2022-06-19 12:03:19,220]\u001b[0m Trial 149 finished with value: 0.5862082687590373 and parameters: {'n_estimators': 89, 'max_depth': 8, 'eta': 0.1, 'gamma': 4}. Best is trial 131 with value: 0.5867919250799124.\u001b[0m\n",
      "\u001b[32m[I 2022-06-19 12:03:39,510]\u001b[0m Trial 150 finished with value: 0.5556292052476897 and parameters: {'n_estimators': 295, 'max_depth': 8, 'eta': 0.1, 'gamma': 4}. Best is trial 131 with value: 0.5867919250799124.\u001b[0m\n",
      "\u001b[32m[I 2022-06-19 12:03:45,740]\u001b[0m Trial 151 finished with value: 0.5862082687590373 and parameters: {'n_estimators': 89, 'max_depth': 8, 'eta': 0.1, 'gamma': 4}. Best is trial 131 with value: 0.5867919250799124.\u001b[0m\n",
      "\u001b[32m[I 2022-06-19 12:03:50,427]\u001b[0m Trial 152 finished with value: 0.5845010733114043 and parameters: {'n_estimators': 67, 'max_depth': 8, 'eta': 0.1, 'gamma': 4}. Best is trial 131 with value: 0.5867919250799124.\u001b[0m\n",
      "\u001b[32m[I 2022-06-19 12:03:55,821]\u001b[0m Trial 153 finished with value: 0.5744245629415078 and parameters: {'n_estimators': 78, 'max_depth': 7, 'eta': 0.1, 'gamma': 4}. Best is trial 131 with value: 0.5867919250799124.\u001b[0m\n",
      "\u001b[32m[I 2022-06-19 12:04:02,052]\u001b[0m Trial 154 finished with value: 0.5862082687590373 and parameters: {'n_estimators': 89, 'max_depth': 8, 'eta': 0.1, 'gamma': 4}. Best is trial 131 with value: 0.5867919250799124.\u001b[0m\n",
      "\u001b[32m[I 2022-06-19 12:04:08,219]\u001b[0m Trial 155 finished with value: 0.5862082687590373 and parameters: {'n_estimators': 89, 'max_depth': 8, 'eta': 0.1, 'gamma': 4}. Best is trial 131 with value: 0.5867919250799124.\u001b[0m\n",
      "\u001b[32m[I 2022-06-19 12:04:14,507]\u001b[0m Trial 156 finished with value: 0.5864386823893858 and parameters: {'n_estimators': 90, 'max_depth': 8, 'eta': 0.1, 'gamma': 4}. Best is trial 131 with value: 0.5867919250799124.\u001b[0m\n",
      "\u001b[32m[I 2022-06-19 12:04:20,669]\u001b[0m Trial 157 finished with value: 0.5862082687590373 and parameters: {'n_estimators': 89, 'max_depth': 8, 'eta': 0.1, 'gamma': 4}. Best is trial 131 with value: 0.5867919250799124.\u001b[0m\n",
      "\u001b[32m[I 2022-06-19 12:04:25,798]\u001b[0m Trial 158 finished with value: 0.5723346405786983 and parameters: {'n_estimators': 73, 'max_depth': 8, 'eta': 0.15, 'gamma': 4}. Best is trial 131 with value: 0.5867919250799124.\u001b[0m\n",
      "\u001b[32m[I 2022-06-19 12:04:31,813]\u001b[0m Trial 159 finished with value: 0.5820757715480928 and parameters: {'n_estimators': 87, 'max_depth': 8, 'eta': 0.1, 'gamma': 4}. Best is trial 131 with value: 0.5867919250799124.\u001b[0m\n",
      "\u001b[32m[I 2022-06-19 12:04:38,054]\u001b[0m Trial 160 finished with value: 0.5862082687590373 and parameters: {'n_estimators': 89, 'max_depth': 8, 'eta': 0.1, 'gamma': 4}. Best is trial 131 with value: 0.5867919250799124.\u001b[0m\n",
      "\u001b[32m[I 2022-06-19 12:04:44,367]\u001b[0m Trial 161 finished with value: 0.5864386823893858 and parameters: {'n_estimators': 90, 'max_depth': 8, 'eta': 0.1, 'gamma': 4}. Best is trial 131 with value: 0.5867919250799124.\u001b[0m\n",
      "\u001b[32m[I 2022-06-19 12:04:49,990]\u001b[0m Trial 162 finished with value: 0.5800870989260357 and parameters: {'n_estimators': 90, 'max_depth': 7, 'eta': 0.1, 'gamma': 4}. Best is trial 131 with value: 0.5867919250799124.\u001b[0m\n",
      "\u001b[32m[I 2022-06-19 12:04:55,624]\u001b[0m Trial 163 finished with value: 0.5810396796506131 and parameters: {'n_estimators': 81, 'max_depth': 8, 'eta': 0.1, 'gamma': 4}. Best is trial 131 with value: 0.5867919250799124.\u001b[0m\n",
      "\u001b[32m[I 2022-06-19 12:05:00,493]\u001b[0m Trial 164 finished with value: 0.5839675721852127 and parameters: {'n_estimators': 70, 'max_depth': 8, 'eta': 0.1, 'gamma': 4}. Best is trial 131 with value: 0.5867919250799124.\u001b[0m\n",
      "\u001b[32m[I 2022-06-19 12:05:06,604]\u001b[0m Trial 165 finished with value: 0.5826397744729663 and parameters: {'n_estimators': 88, 'max_depth': 8, 'eta': 0.1, 'gamma': 4}. Best is trial 131 with value: 0.5867919250799124.\u001b[0m\n",
      "\u001b[32m[I 2022-06-19 12:05:12,291]\u001b[0m Trial 166 finished with value: 0.5815405836143688 and parameters: {'n_estimators': 79, 'max_depth': 8, 'eta': 0.1, 'gamma': 4}. Best is trial 131 with value: 0.5867919250799124.\u001b[0m\n",
      "\u001b[32m[I 2022-06-19 12:05:19,552]\u001b[0m Trial 167 finished with value: 0.5805705441535776 and parameters: {'n_estimators': 105, 'max_depth': 8, 'eta': 0.1, 'gamma': 4}. Best is trial 131 with value: 0.5867919250799124.\u001b[0m\n",
      "\u001b[32m[I 2022-06-19 12:05:25,686]\u001b[0m Trial 168 finished with value: 0.5826397744729663 and parameters: {'n_estimators': 88, 'max_depth': 8, 'eta': 0.1, 'gamma': 4}. Best is trial 131 with value: 0.5867919250799124.\u001b[0m\n",
      "\u001b[32m[I 2022-06-19 12:05:31,436]\u001b[0m Trial 169 finished with value: 0.5829189061582436 and parameters: {'n_estimators': 83, 'max_depth': 8, 'eta': 0.1, 'gamma': 4}. Best is trial 131 with value: 0.5867919250799124.\u001b[0m\n",
      "\u001b[32m[I 2022-06-19 12:05:36,154]\u001b[0m Trial 170 finished with value: 0.5553741348667263 and parameters: {'n_estimators': 74, 'max_depth': 7, 'eta': 0.3, 'gamma': 4}. Best is trial 131 with value: 0.5867919250799124.\u001b[0m\n",
      "\u001b[32m[I 2022-06-19 12:05:42,509]\u001b[0m Trial 171 finished with value: 0.5837586936571904 and parameters: {'n_estimators': 91, 'max_depth': 8, 'eta': 0.1, 'gamma': 4}. Best is trial 131 with value: 0.5867919250799124.\u001b[0m\n",
      "\u001b[32m[I 2022-06-19 12:05:49,690]\u001b[0m Trial 172 finished with value: 0.5823335201250027 and parameters: {'n_estimators': 104, 'max_depth': 8, 'eta': 0.1, 'gamma': 4}. Best is trial 131 with value: 0.5867919250799124.\u001b[0m\n",
      "\u001b[32m[I 2022-06-19 12:05:56,029]\u001b[0m Trial 173 finished with value: 0.5837586936571904 and parameters: {'n_estimators': 91, 'max_depth': 8, 'eta': 0.1, 'gamma': 4}. Best is trial 131 with value: 0.5867919250799124.\u001b[0m\n",
      "\u001b[32m[I 2022-06-19 12:06:01,714]\u001b[0m Trial 174 finished with value: 0.5827303448679532 and parameters: {'n_estimators': 82, 'max_depth': 8, 'eta': 0.1, 'gamma': 4}. Best is trial 131 with value: 0.5867919250799124.\u001b[0m\n",
      "\u001b[32m[I 2022-06-19 12:06:08,628]\u001b[0m Trial 175 finished with value: 0.5822172969399365 and parameters: {'n_estimators': 100, 'max_depth': 8, 'eta': 0.1, 'gamma': 4}. Best is trial 131 with value: 0.5867919250799124.\u001b[0m\n",
      "\u001b[32m[I 2022-06-19 12:06:16,113]\u001b[0m Trial 176 finished with value: 0.5795016761878982 and parameters: {'n_estimators': 108, 'max_depth': 8, 'eta': 0.1, 'gamma': 4}. Best is trial 131 with value: 0.5867919250799124.\u001b[0m\n",
      "\u001b[32m[I 2022-06-19 12:06:27,384]\u001b[0m Trial 177 finished with value: 0.548069825465733 and parameters: {'n_estimators': 162, 'max_depth': 8, 'eta': 0.2, 'gamma': 4}. Best is trial 131 with value: 0.5867919250799124.\u001b[0m\n",
      "\u001b[32m[I 2022-06-19 12:06:33,133]\u001b[0m Trial 178 finished with value: 0.5782778839045404 and parameters: {'n_estimators': 92, 'max_depth': 7, 'eta': 0.1, 'gamma': 4}. Best is trial 131 with value: 0.5867919250799124.\u001b[0m\n",
      "\u001b[32m[I 2022-06-19 12:06:38,958]\u001b[0m Trial 179 finished with value: 0.5819691046302296 and parameters: {'n_estimators': 84, 'max_depth': 8, 'eta': 0.1, 'gamma': 4}. Best is trial 131 with value: 0.5867919250799124.\u001b[0m\n",
      "\u001b[32m[I 2022-06-19 12:06:46,920]\u001b[0m Trial 180 finished with value: 0.5759940921076876 and parameters: {'n_estimators': 113, 'max_depth': 8, 'eta': 0.1, 'gamma': 4}. Best is trial 131 with value: 0.5867919250799124.\u001b[0m\n",
      "\u001b[32m[I 2022-06-19 12:06:53,967]\u001b[0m Trial 181 finished with value: 0.5810968795279945 and parameters: {'n_estimators': 102, 'max_depth': 8, 'eta': 0.1, 'gamma': 4}. Best is trial 131 with value: 0.5867919250799124.\u001b[0m\n",
      "\u001b[32m[I 2022-06-19 12:07:00,408]\u001b[0m Trial 182 finished with value: 0.5880628943369597 and parameters: {'n_estimators': 93, 'max_depth': 8, 'eta': 0.1, 'gamma': 4}. Best is trial 182 with value: 0.5880628943369597.\u001b[0m\n",
      "\u001b[32m[I 2022-06-19 12:07:06,767]\u001b[0m Trial 183 finished with value: 0.5829326145077061 and parameters: {'n_estimators': 92, 'max_depth': 8, 'eta': 0.1, 'gamma': 4}. Best is trial 182 with value: 0.5880628943369597.\u001b[0m\n",
      "\u001b[32m[I 2022-06-19 12:07:12,385]\u001b[0m Trial 184 finished with value: 0.5802260037514684 and parameters: {'n_estimators': 78, 'max_depth': 8, 'eta': 0.1, 'gamma': 4}. Best is trial 182 with value: 0.5880628943369597.\u001b[0m\n",
      "\u001b[32m[I 2022-06-19 12:07:18,689]\u001b[0m Trial 185 finished with value: 0.5750633607919593 and parameters: {'n_estimators': 101, 'max_depth': 7, 'eta': 0.1, 'gamma': 4}. Best is trial 182 with value: 0.5880628943369597.\u001b[0m\n",
      "\u001b[32m[I 2022-06-19 12:07:24,636]\u001b[0m Trial 186 finished with value: 0.5850622077661719 and parameters: {'n_estimators': 86, 'max_depth': 8, 'eta': 0.1, 'gamma': 4}. Best is trial 182 with value: 0.5880628943369597.\u001b[0m\n",
      "\u001b[32m[I 2022-06-19 12:07:30,648]\u001b[0m Trial 187 finished with value: 0.5760621423382305 and parameters: {'n_estimators': 108, 'max_depth': 6, 'eta': 0.1, 'gamma': 4}. Best is trial 182 with value: 0.5880628943369597.\u001b[0m\n",
      "\u001b[32m[I 2022-06-19 12:07:37,205]\u001b[0m Trial 188 finished with value: 0.5868104007852937 and parameters: {'n_estimators': 95, 'max_depth': 8, 'eta': 0.1, 'gamma': 4}. Best is trial 182 with value: 0.5880628943369597.\u001b[0m\n",
      "\u001b[32m[I 2022-06-19 12:07:41,669]\u001b[0m Trial 189 finished with value: 0.5704845882225376 and parameters: {'n_estimators': 70, 'max_depth': 7, 'eta': 0.1, 'gamma': 4}. Best is trial 182 with value: 0.5880628943369597.\u001b[0m\n",
      "\u001b[32m[I 2022-06-19 12:07:48,042]\u001b[0m Trial 190 finished with value: 0.5829326145077061 and parameters: {'n_estimators': 92, 'max_depth': 8, 'eta': 0.1, 'gamma': 4}. Best is trial 182 with value: 0.5880628943369597.\u001b[0m\n",
      "\u001b[32m[I 2022-06-19 12:07:54,693]\u001b[0m Trial 191 finished with value: 0.5857586893490827 and parameters: {'n_estimators': 96, 'max_depth': 8, 'eta': 0.1, 'gamma': 4}. Best is trial 182 with value: 0.5880628943369597.\u001b[0m\n",
      "\u001b[32m[I 2022-06-19 12:08:00,715]\u001b[0m Trial 192 finished with value: 0.5820757715480928 and parameters: {'n_estimators': 87, 'max_depth': 8, 'eta': 0.1, 'gamma': 4}. Best is trial 182 with value: 0.5880628943369597.\u001b[0m\n",
      "\u001b[32m[I 2022-06-19 12:08:07,547]\u001b[0m Trial 193 finished with value: 0.5841916846811974 and parameters: {'n_estimators': 99, 'max_depth': 8, 'eta': 0.1, 'gamma': 4}. Best is trial 182 with value: 0.5880628943369597.\u001b[0m\n",
      "\u001b[32m[I 2022-06-19 12:08:13,984]\u001b[0m Trial 194 finished with value: 0.5880628943369597 and parameters: {'n_estimators': 93, 'max_depth': 8, 'eta': 0.1, 'gamma': 4}. Best is trial 182 with value: 0.5880628943369597.\u001b[0m\n",
      "\u001b[32m[I 2022-06-19 12:08:21,438]\u001b[0m Trial 195 finished with value: 0.5795016761878982 and parameters: {'n_estimators': 108, 'max_depth': 8, 'eta': 0.1, 'gamma': 4}. Best is trial 182 with value: 0.5880628943369597.\u001b[0m\n",
      "\u001b[32m[I 2022-06-19 12:08:27,858]\u001b[0m Trial 196 finished with value: 0.5714792829342972 and parameters: {'n_estimators': 92, 'max_depth': 8, 'eta': 0.15, 'gamma': 4}. Best is trial 182 with value: 0.5880628943369597.\u001b[0m\n",
      "\u001b[32m[I 2022-06-19 12:08:34,903]\u001b[0m Trial 197 finished with value: 0.5810968795279945 and parameters: {'n_estimators': 102, 'max_depth': 8, 'eta': 0.1, 'gamma': 4}. Best is trial 182 with value: 0.5880628943369597.\u001b[0m\n",
      "\u001b[32m[I 2022-06-19 12:08:41,534]\u001b[0m Trial 198 finished with value: 0.5868104007852937 and parameters: {'n_estimators': 95, 'max_depth': 8, 'eta': 0.1, 'gamma': 4}. Best is trial 182 with value: 0.5880628943369597.\u001b[0m\n",
      "\u001b[32m[I 2022-06-19 12:08:47,366]\u001b[0m Trial 199 finished with value: 0.5819691046302296 and parameters: {'n_estimators': 84, 'max_depth': 8, 'eta': 0.1, 'gamma': 4}. Best is trial 182 with value: 0.5880628943369597.\u001b[0m\n",
      "\u001b[32m[I 2022-06-19 12:08:54,155]\u001b[0m Trial 200 finished with value: 0.5868104007852937 and parameters: {'n_estimators': 95, 'max_depth': 8, 'eta': 0.1, 'gamma': 4}. Best is trial 182 with value: 0.5880628943369597.\u001b[0m\n",
      "\u001b[32m[I 2022-06-19 12:09:00,777]\u001b[0m Trial 201 finished with value: 0.5868104007852937 and parameters: {'n_estimators': 95, 'max_depth': 8, 'eta': 0.1, 'gamma': 4}. Best is trial 182 with value: 0.5880628943369597.\u001b[0m\n",
      "\u001b[32m[I 2022-06-19 12:09:07,359]\u001b[0m Trial 202 finished with value: 0.5868104007852937 and parameters: {'n_estimators': 95, 'max_depth': 8, 'eta': 0.1, 'gamma': 4}. Best is trial 182 with value: 0.5880628943369597.\u001b[0m\n",
      "\u001b[32m[I 2022-06-19 12:09:14,063]\u001b[0m Trial 203 finished with value: 0.5857586893490827 and parameters: {'n_estimators': 96, 'max_depth': 8, 'eta': 0.1, 'gamma': 4}. Best is trial 182 with value: 0.5880628943369597.\u001b[0m\n",
      "\u001b[32m[I 2022-06-19 12:09:20,241]\u001b[0m Trial 204 finished with value: 0.5862082687590373 and parameters: {'n_estimators': 89, 'max_depth': 8, 'eta': 0.1, 'gamma': 4}. Best is trial 182 with value: 0.5880628943369597.\u001b[0m\n",
      "\u001b[32m[I 2022-06-19 12:09:26,508]\u001b[0m Trial 205 finished with value: 0.5864386823893858 and parameters: {'n_estimators': 90, 'max_depth': 8, 'eta': 0.1, 'gamma': 4}. Best is trial 182 with value: 0.5880628943369597.\u001b[0m\n",
      "\u001b[32m[I 2022-06-19 12:09:32,682]\u001b[0m Trial 206 finished with value: 0.5826397744729663 and parameters: {'n_estimators': 88, 'max_depth': 8, 'eta': 0.1, 'gamma': 4}. Best is trial 182 with value: 0.5880628943369597.\u001b[0m\n",
      "\u001b[32m[I 2022-06-19 12:09:38,428]\u001b[0m Trial 207 finished with value: 0.5829189061582436 and parameters: {'n_estimators': 83, 'max_depth': 8, 'eta': 0.1, 'gamma': 4}. Best is trial 182 with value: 0.5880628943369597.\u001b[0m\n",
      "\u001b[32m[I 2022-06-19 12:09:44,792]\u001b[0m Trial 208 finished with value: 0.5837586936571904 and parameters: {'n_estimators': 91, 'max_depth': 8, 'eta': 0.1, 'gamma': 4}. Best is trial 182 with value: 0.5880628943369597.\u001b[0m\n",
      "\u001b[32m[I 2022-06-19 12:10:03,934]\u001b[0m Trial 209 finished with value: 0.5578779199536618 and parameters: {'n_estimators': 278, 'max_depth': 8, 'eta': 0.1, 'gamma': 4}. Best is trial 182 with value: 0.5880628943369597.\u001b[0m\n",
      "\u001b[32m[I 2022-06-19 12:10:09,424]\u001b[0m Trial 210 finished with value: 0.5815405836143688 and parameters: {'n_estimators': 79, 'max_depth': 8, 'eta': 0.1, 'gamma': 4}. Best is trial 182 with value: 0.5880628943369597.\u001b[0m\n",
      "\u001b[32m[I 2022-06-19 12:10:15,983]\u001b[0m Trial 211 finished with value: 0.5861518522068175 and parameters: {'n_estimators': 94, 'max_depth': 8, 'eta': 0.1, 'gamma': 4}. Best is trial 182 with value: 0.5880628943369597.\u001b[0m\n",
      "\u001b[32m[I 2022-06-19 12:10:22,483]\u001b[0m Trial 212 finished with value: 0.5861518522068175 and parameters: {'n_estimators': 94, 'max_depth': 8, 'eta': 0.1, 'gamma': 4}. Best is trial 182 with value: 0.5880628943369597.\u001b[0m\n",
      "\u001b[32m[I 2022-06-19 12:10:28,525]\u001b[0m Trial 213 finished with value: 0.5820757715480928 and parameters: {'n_estimators': 87, 'max_depth': 8, 'eta': 0.1, 'gamma': 4}. Best is trial 182 with value: 0.5880628943369597.\u001b[0m\n",
      "\u001b[32m[I 2022-06-19 12:10:35,105]\u001b[0m Trial 214 finished with value: 0.5861518522068175 and parameters: {'n_estimators': 94, 'max_depth': 8, 'eta': 0.1, 'gamma': 4}. Best is trial 182 with value: 0.5880628943369597.\u001b[0m\n",
      "\u001b[32m[I 2022-06-19 12:10:40,726]\u001b[0m Trial 215 finished with value: 0.5810396796506131 and parameters: {'n_estimators': 81, 'max_depth': 8, 'eta': 0.1, 'gamma': 4}. Best is trial 182 with value: 0.5880628943369597.\u001b[0m\n",
      "\u001b[32m[I 2022-06-19 12:10:47,026]\u001b[0m Trial 216 finished with value: 0.5510312604660804 and parameters: {'n_estimators': 88, 'max_depth': 8, 'eta': 0.3, 'gamma': 4}. Best is trial 182 with value: 0.5880628943369597.\u001b[0m\n",
      "\u001b[32m[I 2022-06-19 12:10:53,824]\u001b[0m Trial 217 finished with value: 0.5833452472962619 and parameters: {'n_estimators': 98, 'max_depth': 8, 'eta': 0.1, 'gamma': 4}. Best is trial 182 with value: 0.5880628943369597.\u001b[0m\n",
      "\u001b[32m[I 2022-06-19 12:11:00,111]\u001b[0m Trial 218 finished with value: 0.560291046410413 and parameters: {'n_estimators': 89, 'max_depth': 8, 'eta': 0.2, 'gamma': 4}. Best is trial 182 with value: 0.5880628943369597.\u001b[0m\n",
      "\u001b[32m[I 2022-06-19 12:11:05,261]\u001b[0m Trial 219 finished with value: 0.5735071027940076 and parameters: {'n_estimators': 82, 'max_depth': 7, 'eta': 0.1, 'gamma': 4}. Best is trial 182 with value: 0.5880628943369597.\u001b[0m\n",
      "\u001b[32m[I 2022-06-19 12:11:12,044]\u001b[0m Trial 220 finished with value: 0.5833452472962619 and parameters: {'n_estimators': 98, 'max_depth': 8, 'eta': 0.1, 'gamma': 4}. Best is trial 182 with value: 0.5880628943369597.\u001b[0m\n",
      "\u001b[32m[I 2022-06-19 12:11:18,617]\u001b[0m Trial 221 finished with value: 0.5868104007852937 and parameters: {'n_estimators': 95, 'max_depth': 8, 'eta': 0.1, 'gamma': 4}. Best is trial 182 with value: 0.5880628943369597.\u001b[0m\n",
      "\u001b[32m[I 2022-06-19 12:11:25,052]\u001b[0m Trial 222 finished with value: 0.5880628943369597 and parameters: {'n_estimators': 93, 'max_depth': 8, 'eta': 0.1, 'gamma': 4}. Best is trial 182 with value: 0.5880628943369597.\u001b[0m\n",
      "\u001b[32m[I 2022-06-19 12:11:31,360]\u001b[0m Trial 223 finished with value: 0.5864386823893858 and parameters: {'n_estimators': 90, 'max_depth': 8, 'eta': 0.1, 'gamma': 4}. Best is trial 182 with value: 0.5880628943369597.\u001b[0m\n",
      "\u001b[32m[I 2022-06-19 12:11:38,344]\u001b[0m Trial 224 finished with value: 0.581267823148364 and parameters: {'n_estimators': 101, 'max_depth': 8, 'eta': 0.1, 'gamma': 4}. Best is trial 182 with value: 0.5880628943369597.\u001b[0m\n",
      "\u001b[32m[I 2022-06-19 12:11:44,904]\u001b[0m Trial 225 finished with value: 0.5861518522068175 and parameters: {'n_estimators': 94, 'max_depth': 8, 'eta': 0.1, 'gamma': 4}. Best is trial 182 with value: 0.5880628943369597.\u001b[0m\n",
      "\u001b[32m[I 2022-06-19 12:11:50,933]\u001b[0m Trial 226 finished with value: 0.5820757715480928 and parameters: {'n_estimators': 87, 'max_depth': 8, 'eta': 0.1, 'gamma': 4}. Best is trial 182 with value: 0.5880628943369597.\u001b[0m\n",
      "\u001b[32m[I 2022-06-19 12:11:56,282]\u001b[0m Trial 227 finished with value: 0.5781388474885307 and parameters: {'n_estimators': 77, 'max_depth': 8, 'eta': 0.1, 'gamma': 4}. Best is trial 182 with value: 0.5880628943369597.\u001b[0m\n",
      "\u001b[32m[I 2022-06-19 12:12:02,106]\u001b[0m Trial 228 finished with value: 0.5819691046302296 and parameters: {'n_estimators': 84, 'max_depth': 8, 'eta': 0.1, 'gamma': 4}. Best is trial 182 with value: 0.5880628943369597.\u001b[0m\n",
      "\u001b[32m[I 2022-06-19 12:12:08,471]\u001b[0m Trial 229 finished with value: 0.5829326145077061 and parameters: {'n_estimators': 92, 'max_depth': 8, 'eta': 0.1, 'gamma': 4}. Best is trial 182 with value: 0.5880628943369597.\u001b[0m\n",
      "\u001b[32m[I 2022-06-19 12:12:15,382]\u001b[0m Trial 230 finished with value: 0.5822172969399365 and parameters: {'n_estimators': 100, 'max_depth': 8, 'eta': 0.1, 'gamma': 4}. Best is trial 182 with value: 0.5880628943369597.\u001b[0m\n",
      "\u001b[32m[I 2022-06-19 12:12:21,552]\u001b[0m Trial 231 finished with value: 0.5862082687590373 and parameters: {'n_estimators': 89, 'max_depth': 8, 'eta': 0.1, 'gamma': 4}. Best is trial 182 with value: 0.5880628943369597.\u001b[0m\n",
      "\u001b[32m[I 2022-06-19 12:12:28,085]\u001b[0m Trial 232 finished with value: 0.5861518522068175 and parameters: {'n_estimators': 94, 'max_depth': 8, 'eta': 0.1, 'gamma': 4}. Best is trial 182 with value: 0.5880628943369597.\u001b[0m\n",
      "\u001b[32m[I 2022-06-19 12:12:34,032]\u001b[0m Trial 233 finished with value: 0.5850622077661719 and parameters: {'n_estimators': 86, 'max_depth': 8, 'eta': 0.1, 'gamma': 4}. Best is trial 182 with value: 0.5880628943369597.\u001b[0m\n",
      "\u001b[32m[I 2022-06-19 12:12:40,874]\u001b[0m Trial 234 finished with value: 0.5841916846811974 and parameters: {'n_estimators': 99, 'max_depth': 8, 'eta': 0.1, 'gamma': 4}. Best is trial 182 with value: 0.5880628943369597.\u001b[0m\n",
      "\u001b[32m[I 2022-06-19 12:12:53,908]\u001b[0m Trial 235 finished with value: 0.5700281317597492 and parameters: {'n_estimators': 188, 'max_depth': 8, 'eta': 0.1, 'gamma': 4}. Best is trial 182 with value: 0.5880628943369597.\u001b[0m\n",
      "\u001b[32m[I 2022-06-19 12:13:00,280]\u001b[0m Trial 236 finished with value: 0.5829326145077061 and parameters: {'n_estimators': 92, 'max_depth': 8, 'eta': 0.1, 'gamma': 4}. Best is trial 182 with value: 0.5880628943369597.\u001b[0m\n",
      "\u001b[32m[I 2022-06-19 12:13:05,888]\u001b[0m Trial 237 finished with value: 0.5810396796506131 and parameters: {'n_estimators': 81, 'max_depth': 8, 'eta': 0.1, 'gamma': 4}. Best is trial 182 with value: 0.5880628943369597.\u001b[0m\n",
      "\u001b[32m[I 2022-06-19 12:13:12,004]\u001b[0m Trial 238 finished with value: 0.5826397744729663 and parameters: {'n_estimators': 88, 'max_depth': 8, 'eta': 0.1, 'gamma': 4}. Best is trial 182 with value: 0.5880628943369597.\u001b[0m\n",
      "\u001b[32m[I 2022-06-19 12:13:19,117]\u001b[0m Trial 239 finished with value: 0.5702744747825781 and parameters: {'n_estimators': 102, 'max_depth': 8, 'eta': 0.15, 'gamma': 4}. Best is trial 182 with value: 0.5880628943369597.\u001b[0m\n",
      "\u001b[32m[I 2022-06-19 12:13:35,877]\u001b[0m Trial 240 finished with value: 0.5670079804129098 and parameters: {'n_estimators': 244, 'max_depth': 8, 'eta': 0.1, 'gamma': 4}. Best is trial 182 with value: 0.5880628943369597.\u001b[0m\n",
      "\u001b[32m[I 2022-06-19 12:13:42,241]\u001b[0m Trial 241 finished with value: 0.5864386823893858 and parameters: {'n_estimators': 90, 'max_depth': 8, 'eta': 0.1, 'gamma': 4}. Best is trial 182 with value: 0.5880628943369597.\u001b[0m\n",
      "\u001b[32m[I 2022-06-19 12:13:48,681]\u001b[0m Trial 242 finished with value: 0.5880628943369597 and parameters: {'n_estimators': 93, 'max_depth': 8, 'eta': 0.1, 'gamma': 4}. Best is trial 182 with value: 0.5880628943369597.\u001b[0m\n",
      "\u001b[32m[I 2022-06-19 12:13:56,345]\u001b[0m Trial 243 finished with value: 0.5857586893490827 and parameters: {'n_estimators': 96, 'max_depth': 8, 'eta': 0.1, 'gamma': 4}. Best is trial 182 with value: 0.5880628943369597.\u001b[0m\n",
      "\u001b[32m[I 2022-06-19 12:14:02,896]\u001b[0m Trial 244 finished with value: 0.5861518522068175 and parameters: {'n_estimators': 94, 'max_depth': 8, 'eta': 0.1, 'gamma': 4}. Best is trial 182 with value: 0.5880628943369597.\u001b[0m\n",
      "\u001b[32m[I 2022-06-19 12:14:08,653]\u001b[0m Trial 245 finished with value: 0.5829189061582436 and parameters: {'n_estimators': 83, 'max_depth': 8, 'eta': 0.1, 'gamma': 4}. Best is trial 182 with value: 0.5880628943369597.\u001b[0m\n",
      "\u001b[32m[I 2022-06-19 12:14:15,584]\u001b[0m Trial 246 finished with value: 0.5822172969399365 and parameters: {'n_estimators': 100, 'max_depth': 8, 'eta': 0.1, 'gamma': 4}. Best is trial 182 with value: 0.5880628943369597.\u001b[0m\n",
      "\u001b[32m[I 2022-06-19 12:14:21,815]\u001b[0m Trial 247 finished with value: 0.5864386823893858 and parameters: {'n_estimators': 90, 'max_depth': 8, 'eta': 0.1, 'gamma': 4}. Best is trial 182 with value: 0.5880628943369597.\u001b[0m\n",
      "\u001b[32m[I 2022-06-19 12:14:28,326]\u001b[0m Trial 248 finished with value: 0.5861518522068175 and parameters: {'n_estimators': 94, 'max_depth': 8, 'eta': 0.1, 'gamma': 4}. Best is trial 182 with value: 0.5880628943369597.\u001b[0m\n",
      "\u001b[32m[I 2022-06-19 12:14:33,492]\u001b[0m Trial 249 finished with value: 0.581762870036477 and parameters: {'n_estimators': 74, 'max_depth': 8, 'eta': 0.1, 'gamma': 4}. Best is trial 182 with value: 0.5880628943369597.\u001b[0m\n",
      "\u001b[32m[I 2022-06-19 12:14:39,650]\u001b[0m Trial 250 finished with value: 0.5862082687590373 and parameters: {'n_estimators': 89, 'max_depth': 8, 'eta': 0.1, 'gamma': 4}. Best is trial 182 with value: 0.5880628943369597.\u001b[0m\n",
      "\u001b[32m[I 2022-06-19 12:14:46,304]\u001b[0m Trial 251 finished with value: 0.574145715504413 and parameters: {'n_estimators': 104, 'max_depth': 7, 'eta': 0.1, 'gamma': 4}. Best is trial 182 with value: 0.5880628943369597.\u001b[0m\n",
      "\u001b[32m[I 2022-06-19 12:14:51,998]\u001b[0m Trial 252 finished with value: 0.5827303448679532 and parameters: {'n_estimators': 82, 'max_depth': 8, 'eta': 0.1, 'gamma': 4}. Best is trial 182 with value: 0.5880628943369597.\u001b[0m\n",
      "\u001b[32m[I 2022-06-19 12:14:58,789]\u001b[0m Trial 253 finished with value: 0.5833452472962619 and parameters: {'n_estimators': 98, 'max_depth': 8, 'eta': 0.1, 'gamma': 4}. Best is trial 182 with value: 0.5880628943369597.\u001b[0m\n",
      "\u001b[32m[I 2022-06-19 12:15:05,221]\u001b[0m Trial 254 finished with value: 0.5437540436930746 and parameters: {'n_estimators': 91, 'max_depth': 8, 'eta': 0.3, 'gamma': 4}. Best is trial 182 with value: 0.5880628943369597.\u001b[0m\n",
      "\u001b[32m[I 2022-06-19 12:15:10,632]\u001b[0m Trial 255 finished with value: 0.5802260037514684 and parameters: {'n_estimators': 78, 'max_depth': 8, 'eta': 0.1, 'gamma': 4}. Best is trial 182 with value: 0.5880628943369597.\u001b[0m\n",
      "\u001b[32m[I 2022-06-19 12:15:16,447]\u001b[0m Trial 256 finished with value: 0.5819691046302296 and parameters: {'n_estimators': 84, 'max_depth': 8, 'eta': 0.1, 'gamma': 4}. Best is trial 182 with value: 0.5880628943369597.\u001b[0m\n",
      "\u001b[32m[I 2022-06-19 12:15:23,090]\u001b[0m Trial 257 finished with value: 0.5857586893490827 and parameters: {'n_estimators': 96, 'max_depth': 8, 'eta': 0.1, 'gamma': 4}. Best is trial 182 with value: 0.5880628943369597.\u001b[0m\n",
      "\u001b[32m[I 2022-06-19 12:15:29,183]\u001b[0m Trial 258 finished with value: 0.5826397744729663 and parameters: {'n_estimators': 88, 'max_depth': 8, 'eta': 0.1, 'gamma': 4}. Best is trial 182 with value: 0.5880628943369597.\u001b[0m\n",
      "\u001b[32m[I 2022-06-19 12:15:36,594]\u001b[0m Trial 259 finished with value: 0.5612646653362521 and parameters: {'n_estimators': 105, 'max_depth': 8, 'eta': 0.2, 'gamma': 4}. Best is trial 182 with value: 0.5880628943369597.\u001b[0m\n",
      "\u001b[32m[I 2022-06-19 12:15:43,486]\u001b[0m Trial 260 finished with value: 0.5841916846811974 and parameters: {'n_estimators': 99, 'max_depth': 8, 'eta': 0.1, 'gamma': 4}. Best is trial 182 with value: 0.5880628943369597.\u001b[0m\n",
      "\u001b[32m[I 2022-06-19 12:15:49,303]\u001b[0m Trial 261 finished with value: 0.5782778839045404 and parameters: {'n_estimators': 92, 'max_depth': 7, 'eta': 0.1, 'gamma': 4}. Best is trial 182 with value: 0.5880628943369597.\u001b[0m\n",
      "\u001b[32m[I 2022-06-19 12:15:55,267]\u001b[0m Trial 262 finished with value: 0.5832820112865882 and parameters: {'n_estimators': 85, 'max_depth': 8, 'eta': 0.1, 'gamma': 4}. Best is trial 182 with value: 0.5880628943369597.\u001b[0m\n",
      "\u001b[32m[I 2022-06-19 12:16:02,805]\u001b[0m Trial 263 finished with value: 0.5799481909041159 and parameters: {'n_estimators': 109, 'max_depth': 8, 'eta': 0.1, 'gamma': 4}. Best is trial 182 with value: 0.5880628943369597.\u001b[0m\n",
      "\u001b[32m[I 2022-06-19 12:16:09,378]\u001b[0m Trial 264 finished with value: 0.5868104007852937 and parameters: {'n_estimators': 95, 'max_depth': 8, 'eta': 0.1, 'gamma': 4}. Best is trial 182 with value: 0.5880628943369597.\u001b[0m\n",
      "\u001b[32m[I 2022-06-19 12:16:16,086]\u001b[0m Trial 265 finished with value: 0.5854535759110716 and parameters: {'n_estimators': 97, 'max_depth': 8, 'eta': 0.1, 'gamma': 4}. Best is trial 182 with value: 0.5880628943369597.\u001b[0m\n",
      "\u001b[32m[I 2022-06-19 12:16:23,265]\u001b[0m Trial 266 finished with value: 0.5823335201250027 and parameters: {'n_estimators': 104, 'max_depth': 8, 'eta': 0.1, 'gamma': 4}. Best is trial 182 with value: 0.5880628943369597.\u001b[0m\n",
      "\u001b[32m[I 2022-06-19 12:16:29,135]\u001b[0m Trial 267 finished with value: 0.5747835113612052 and parameters: {'n_estimators': 94, 'max_depth': 7, 'eta': 0.1, 'gamma': 4}. Best is trial 182 with value: 0.5880628943369597.\u001b[0m\n",
      "\u001b[32m[I 2022-06-19 12:16:32,433]\u001b[0m Trial 268 finished with value: 0.5551492048178126 and parameters: {'n_estimators': 79, 'max_depth': 4, 'eta': 0.1, 'gamma': 4}. Best is trial 182 with value: 0.5880628943369597.\u001b[0m\n",
      "\u001b[32m[I 2022-06-19 12:16:39,469]\u001b[0m Trial 269 finished with value: 0.5695972223267793 and parameters: {'n_estimators': 101, 'max_depth': 8, 'eta': 0.15, 'gamma': 4}. Best is trial 182 with value: 0.5880628943369597.\u001b[0m\n",
      "\u001b[32m[I 2022-06-19 12:16:45,884]\u001b[0m Trial 270 finished with value: 0.5864386823893858 and parameters: {'n_estimators': 90, 'max_depth': 8, 'eta': 0.1, 'gamma': 4}. Best is trial 182 with value: 0.5880628943369597.\u001b[0m\n",
      "\u001b[32m[I 2022-06-19 12:16:53,564]\u001b[0m Trial 271 finished with value: 0.5751652258033676 and parameters: {'n_estimators': 111, 'max_depth': 8, 'eta': 0.1, 'gamma': 4}. Best is trial 182 with value: 0.5880628943369597.\u001b[0m\n",
      "\u001b[32m[I 2022-06-19 12:16:59,938]\u001b[0m Trial 272 finished with value: 0.5829326145077061 and parameters: {'n_estimators': 92, 'max_depth': 8, 'eta': 0.1, 'gamma': 4}. Best is trial 182 with value: 0.5880628943369597.\u001b[0m\n",
      "\u001b[32m[I 2022-06-19 12:17:06,789]\u001b[0m Trial 273 finished with value: 0.5841916846811974 and parameters: {'n_estimators': 99, 'max_depth': 8, 'eta': 0.1, 'gamma': 4}. Best is trial 182 with value: 0.5880628943369597.\u001b[0m\n",
      "\u001b[32m[I 2022-06-19 12:17:12,818]\u001b[0m Trial 274 finished with value: 0.5820757715480928 and parameters: {'n_estimators': 87, 'max_depth': 8, 'eta': 0.1, 'gamma': 4}. Best is trial 182 with value: 0.5880628943369597.\u001b[0m\n",
      "\u001b[32m[I 2022-06-19 12:17:18,513]\u001b[0m Trial 275 finished with value: 0.5827303448679532 and parameters: {'n_estimators': 82, 'max_depth': 8, 'eta': 0.1, 'gamma': 4}. Best is trial 182 with value: 0.5880628943369597.\u001b[0m\n",
      "\u001b[32m[I 2022-06-19 12:17:24,351]\u001b[0m Trial 276 finished with value: 0.5754360917777792 and parameters: {'n_estimators': 93, 'max_depth': 7, 'eta': 0.1, 'gamma': 5}. Best is trial 182 with value: 0.5880628943369597.\u001b[0m\n",
      "\u001b[32m[I 2022-06-19 12:17:31,655]\u001b[0m Trial 277 finished with value: 0.5823335201250027 and parameters: {'n_estimators': 104, 'max_depth': 8, 'eta': 0.1, 'gamma': 4}. Best is trial 182 with value: 0.5880628943369597.\u001b[0m\n",
      "\u001b[32m[I 2022-06-19 12:17:36,310]\u001b[0m Trial 278 finished with value: 0.5662963812112849 and parameters: {'n_estimators': 96, 'max_depth': 5, 'eta': 0.1, 'gamma': 4}. Best is trial 182 with value: 0.5880628943369597.\u001b[0m\n",
      "\u001b[32m[I 2022-06-19 12:17:41,789]\u001b[0m Trial 279 finished with value: 0.5552557593532658 and parameters: {'n_estimators': 75, 'max_depth': 8, 'eta': 0.3, 'gamma': 4}. Best is trial 182 with value: 0.5880628943369597.\u001b[0m\n",
      "\u001b[32m[I 2022-06-19 12:17:51,653]\u001b[0m Trial 280 finished with value: 0.5832820112865882 and parameters: {'n_estimators': 85, 'max_depth': 8, 'eta': 0.1, 'gamma': 4}. Best is trial 182 with value: 0.5880628943369597.\u001b[0m\n",
      "\u001b[32m[I 2022-06-19 12:17:58,841]\u001b[0m Trial 281 finished with value: 0.562097219781559 and parameters: {'n_estimators': 100, 'max_depth': 8, 'eta': 0.2, 'gamma': 1}. Best is trial 182 with value: 0.5880628943369597.\u001b[0m\n",
      "\u001b[32m[I 2022-06-19 12:18:05,121]\u001b[0m Trial 282 finished with value: 0.5837586936571904 and parameters: {'n_estimators': 91, 'max_depth': 8, 'eta': 0.1, 'gamma': 4}. Best is trial 182 with value: 0.5880628943369597.\u001b[0m\n",
      "\u001b[32m[I 2022-06-19 12:18:12,366]\u001b[0m Trial 283 finished with value: 0.5805705441535776 and parameters: {'n_estimators': 105, 'max_depth': 8, 'eta': 0.1, 'gamma': 4}. Best is trial 182 with value: 0.5880628943369597.\u001b[0m\n",
      "\u001b[32m[I 2022-06-19 12:18:18,241]\u001b[0m Trial 284 finished with value: 0.5832820112865882 and parameters: {'n_estimators': 85, 'max_depth': 8, 'eta': 0.1, 'gamma': 4}. Best is trial 182 with value: 0.5880628943369597.\u001b[0m\n",
      "\u001b[32m[I 2022-06-19 12:18:24,746]\u001b[0m Trial 285 finished with value: 0.5861518522068175 and parameters: {'n_estimators': 94, 'max_depth': 8, 'eta': 0.1, 'gamma': 4}. Best is trial 182 with value: 0.5880628943369597.\u001b[0m\n",
      "\u001b[32m[I 2022-06-19 12:18:30,166]\u001b[0m Trial 286 finished with value: 0.5802260037514684 and parameters: {'n_estimators': 78, 'max_depth': 8, 'eta': 0.1, 'gamma': 4}. Best is trial 182 with value: 0.5880628943369597.\u001b[0m\n",
      "\u001b[32m[I 2022-06-19 12:18:37,010]\u001b[0m Trial 287 finished with value: 0.5548884010146591 and parameters: {'n_estimators': 205, 'max_depth': 3, 'eta': 0.1, 'gamma': 4}. Best is trial 182 with value: 0.5880628943369597.\u001b[0m\n",
      "\u001b[32m[I 2022-06-19 12:18:43,844]\u001b[0m Trial 288 finished with value: 0.5801406851847618 and parameters: {'n_estimators': 98, 'max_depth': 8, 'eta': 0.1, 'gamma': 0}. Best is trial 182 with value: 0.5880628943369597.\u001b[0m\n",
      "\u001b[32m[I 2022-06-19 12:18:50,017]\u001b[0m Trial 289 finished with value: 0.5862082687590373 and parameters: {'n_estimators': 89, 'max_depth': 8, 'eta': 0.1, 'gamma': 4}. Best is trial 182 with value: 0.5880628943369597.\u001b[0m\n",
      "\u001b[32m[I 2022-06-19 12:18:56,314]\u001b[0m Trial 290 finished with value: 0.5819691046302296 and parameters: {'n_estimators': 84, 'max_depth': 8, 'eta': 0.1, 'gamma': 4}. Best is trial 182 with value: 0.5880628943369597.\u001b[0m\n",
      "\u001b[32m[I 2022-06-19 12:19:03,316]\u001b[0m Trial 291 finished with value: 0.5772388595114443 and parameters: {'n_estimators': 112, 'max_depth': 7, 'eta': 0.1, 'gamma': 4}. Best is trial 182 with value: 0.5880628943369597.\u001b[0m\n",
      "\u001b[32m[I 2022-06-19 12:19:09,901]\u001b[0m Trial 292 finished with value: 0.5868104007852937 and parameters: {'n_estimators': 95, 'max_depth': 8, 'eta': 0.1, 'gamma': 4}. Best is trial 182 with value: 0.5880628943369597.\u001b[0m\n",
      "\u001b[32m[I 2022-06-19 12:19:17,181]\u001b[0m Trial 293 finished with value: 0.5823335201250027 and parameters: {'n_estimators': 104, 'max_depth': 8, 'eta': 0.1, 'gamma': 4}. Best is trial 182 with value: 0.5880628943369597.\u001b[0m\n",
      "\u001b[32m[I 2022-06-19 12:19:23,840]\u001b[0m Trial 294 finished with value: 0.5857586893490827 and parameters: {'n_estimators': 96, 'max_depth': 8, 'eta': 0.1, 'gamma': 4}. Best is trial 182 with value: 0.5880628943369597.\u001b[0m\n",
      "\u001b[32m[I 2022-06-19 12:19:30,768]\u001b[0m Trial 295 finished with value: 0.5822172969399365 and parameters: {'n_estimators': 100, 'max_depth': 8, 'eta': 0.1, 'gamma': 4}. Best is trial 182 with value: 0.5880628943369597.\u001b[0m\n",
      "\u001b[32m[I 2022-06-19 12:19:37,323]\u001b[0m Trial 296 finished with value: 0.5701282124640823 and parameters: {'n_estimators': 93, 'max_depth': 8, 'eta': 0.15, 'gamma': 4}. Best is trial 182 with value: 0.5880628943369597.\u001b[0m\n",
      "\u001b[32m[I 2022-06-19 12:19:44,957]\u001b[0m Trial 297 finished with value: 0.5771997685596991 and parameters: {'n_estimators': 110, 'max_depth': 8, 'eta': 0.1, 'gamma': 4}. Best is trial 182 with value: 0.5880628943369597.\u001b[0m\n",
      "\u001b[32m[I 2022-06-19 12:19:51,269]\u001b[0m Trial 298 finished with value: 0.5837586936571904 and parameters: {'n_estimators': 91, 'max_depth': 8, 'eta': 0.1, 'gamma': 4}. Best is trial 182 with value: 0.5880628943369597.\u001b[0m\n",
      "\u001b[32m[I 2022-06-19 12:19:58,264]\u001b[0m Trial 299 finished with value: 0.581267823148364 and parameters: {'n_estimators': 101, 'max_depth': 8, 'eta': 0.1, 'gamma': 4}. Best is trial 182 with value: 0.5880628943369597.\u001b[0m\n",
      "\u001b[32m[I 2022-06-19 12:20:03,357]\u001b[0m Trial 300 finished with value: 0.5738714361513144 and parameters: {'n_estimators': 81, 'max_depth': 7, 'eta': 0.1, 'gamma': 4}. Best is trial 182 with value: 0.5880628943369597.\u001b[0m\n",
      "\u001b[32m[I 2022-06-19 12:20:09,306]\u001b[0m Trial 301 finished with value: 0.5850622077661719 and parameters: {'n_estimators': 86, 'max_depth': 8, 'eta': 0.1, 'gamma': 4}. Best is trial 182 with value: 0.5880628943369597.\u001b[0m\n",
      "\u001b[32m[I 2022-06-19 12:20:14,185]\u001b[0m Trial 302 finished with value: 0.5839675721852127 and parameters: {'n_estimators': 70, 'max_depth': 8, 'eta': 0.1, 'gamma': 4}. Best is trial 182 with value: 0.5880628943369597.\u001b[0m\n",
      "\u001b[32m[I 2022-06-19 12:20:23,731]\u001b[0m Trial 303 finished with value: 0.5788810172712691 and parameters: {'n_estimators': 175, 'max_depth': 6, 'eta': 0.1, 'gamma': 4}. Best is trial 182 with value: 0.5880628943369597.\u001b[0m\n",
      "\u001b[32m[I 2022-06-19 12:20:31,234]\u001b[0m Trial 304 finished with value: 0.5406445899891887 and parameters: {'n_estimators': 107, 'max_depth': 8, 'eta': 0.3, 'gamma': 4}. Best is trial 182 with value: 0.5880628943369597.\u001b[0m\n",
      "\u001b[32m[I 2022-06-19 12:20:37,811]\u001b[0m Trial 305 finished with value: 0.5868104007852937 and parameters: {'n_estimators': 95, 'max_depth': 8, 'eta': 0.1, 'gamma': 4}. Best is trial 182 with value: 0.5880628943369597.\u001b[0m\n",
      "\u001b[32m[I 2022-06-19 12:20:44,598]\u001b[0m Trial 306 finished with value: 0.5854535759110716 and parameters: {'n_estimators': 97, 'max_depth': 8, 'eta': 0.1, 'gamma': 4}. Best is trial 182 with value: 0.5880628943369597.\u001b[0m\n",
      "\u001b[32m[I 2022-06-19 12:20:54,956]\u001b[0m Trial 307 finished with value: 0.5674227712865861 and parameters: {'n_estimators': 150, 'max_depth': 8, 'eta': 0.1, 'gamma': 4}. Best is trial 182 with value: 0.5880628943369597.\u001b[0m\n",
      "\u001b[32m[I 2022-06-19 12:21:01,774]\u001b[0m Trial 308 finished with value: 0.563870236056946 and parameters: {'n_estimators': 96, 'max_depth': 8, 'eta': 0.2, 'gamma': 4}. Best is trial 182 with value: 0.5880628943369597.\u001b[0m\n",
      "\u001b[32m[I 2022-06-19 12:21:16,572]\u001b[0m Trial 309 finished with value: 0.5688979507937996 and parameters: {'n_estimators': 215, 'max_depth': 8, 'eta': 0.1, 'gamma': 4}. Best is trial 182 with value: 0.5880628943369597.\u001b[0m\n",
      "\u001b[32m[I 2022-06-19 12:21:23,759]\u001b[0m Trial 310 finished with value: 0.5823335201250027 and parameters: {'n_estimators': 104, 'max_depth': 8, 'eta': 0.1, 'gamma': 4}. Best is trial 182 with value: 0.5880628943369597.\u001b[0m\n",
      "\u001b[32m[I 2022-06-19 12:21:30,077]\u001b[0m Trial 311 finished with value: 0.5837586936571904 and parameters: {'n_estimators': 91, 'max_depth': 8, 'eta': 0.1, 'gamma': 4}. Best is trial 182 with value: 0.5880628943369597.\u001b[0m\n",
      "\u001b[32m[I 2022-06-19 12:21:36,985]\u001b[0m Trial 312 finished with value: 0.5841916846811974 and parameters: {'n_estimators': 99, 'max_depth': 8, 'eta': 0.1, 'gamma': 4}. Best is trial 182 with value: 0.5880628943369597.\u001b[0m\n",
      "\u001b[32m[I 2022-06-19 12:21:43,093]\u001b[0m Trial 313 finished with value: 0.5810237034777734 and parameters: {'n_estimators': 87, 'max_depth': 8, 'eta': 0.1, 'gamma': 5}. Best is trial 182 with value: 0.5880628943369597.\u001b[0m\n",
      "\u001b[32m[I 2022-06-19 12:21:51,050]\u001b[0m Trial 314 finished with value: 0.5751681194347927 and parameters: {'n_estimators': 115, 'max_depth': 8, 'eta': 0.1, 'gamma': 4}. Best is trial 182 with value: 0.5880628943369597.\u001b[0m\n",
      "\u001b[32m[I 2022-06-19 12:21:55,902]\u001b[0m Trial 315 finished with value: 0.5728152097166672 and parameters: {'n_estimators': 77, 'max_depth': 7, 'eta': 0.1, 'gamma': 4}. Best is trial 182 with value: 0.5880628943369597.\u001b[0m\n",
      "\u001b[32m[I 2022-06-19 12:22:03,039]\u001b[0m Trial 316 finished with value: 0.5867919250799124 and parameters: {'n_estimators': 94, 'max_depth': 9, 'eta': 0.1, 'gamma': 4}. Best is trial 182 with value: 0.5880628943369597.\u001b[0m\n",
      "\u001b[32m[I 2022-06-19 12:22:11,134]\u001b[0m Trial 317 finished with value: 0.5844326155506205 and parameters: {'n_estimators': 107, 'max_depth': 9, 'eta': 0.1, 'gamma': 4}. Best is trial 182 with value: 0.5880628943369597.\u001b[0m\n",
      "\u001b[32m[I 2022-06-19 12:22:18,329]\u001b[0m Trial 318 finished with value: 0.5840878814155008 and parameters: {'n_estimators': 95, 'max_depth': 9, 'eta': 0.1, 'gamma': 4}. Best is trial 182 with value: 0.5880628943369597.\u001b[0m\n",
      "\u001b[32m[I 2022-06-19 12:22:26,284]\u001b[0m Trial 319 finished with value: 0.566170452230154 and parameters: {'n_estimators': 104, 'max_depth': 9, 'eta': 0.15, 'gamma': 4}. Best is trial 182 with value: 0.5880628943369597.\u001b[0m\n",
      "\u001b[32m[I 2022-06-19 12:22:33,546]\u001b[0m Trial 320 finished with value: 0.5846763553057734 and parameters: {'n_estimators': 96, 'max_depth': 9, 'eta': 0.1, 'gamma': 4}. Best is trial 182 with value: 0.5880628943369597.\u001b[0m\n",
      "\u001b[32m[I 2022-06-19 12:22:39,804]\u001b[0m Trial 321 finished with value: 0.5783086712744427 and parameters: {'n_estimators': 82, 'max_depth': 9, 'eta': 0.1, 'gamma': 4}. Best is trial 182 with value: 0.5880628943369597.\u001b[0m\n",
      "\u001b[32m[I 2022-06-19 12:22:47,561]\u001b[0m Trial 322 finished with value: 0.5864302842962166 and parameters: {'n_estimators': 101, 'max_depth': 9, 'eta': 0.1, 'gamma': 4}. Best is trial 182 with value: 0.5880628943369597.\u001b[0m\n",
      "\u001b[32m[I 2022-06-19 12:22:54,618]\u001b[0m Trial 323 finished with value: 0.5749400911047312 and parameters: {'n_estimators': 93, 'max_depth': 9, 'eta': 0.1, 'gamma': 2}. Best is trial 182 with value: 0.5880628943369597.\u001b[0m\n",
      "\u001b[32m[I 2022-06-19 12:23:01,185]\u001b[0m Trial 324 finished with value: 0.582021841535249 and parameters: {'n_estimators': 87, 'max_depth': 9, 'eta': 0.1, 'gamma': 4}. Best is trial 182 with value: 0.5880628943369597.\u001b[0m\n",
      "\u001b[32m[I 2022-06-19 12:23:08,039]\u001b[0m Trial 325 finished with value: 0.5841916846811974 and parameters: {'n_estimators': 99, 'max_depth': 8, 'eta': 0.1, 'gamma': 4}. Best is trial 182 with value: 0.5880628943369597.\u001b[0m\n",
      "\u001b[32m[I 2022-06-19 12:23:15,620]\u001b[0m Trial 326 finished with value: 0.5771997685596991 and parameters: {'n_estimators': 110, 'max_depth': 8, 'eta': 0.1, 'gamma': 4}. Best is trial 182 with value: 0.5880628943369597.\u001b[0m\n",
      "\u001b[32m[I 2022-06-19 12:23:21,970]\u001b[0m Trial 327 finished with value: 0.5829326145077061 and parameters: {'n_estimators': 92, 'max_depth': 8, 'eta': 0.1, 'gamma': 4}. Best is trial 182 with value: 0.5880628943369597.\u001b[0m\n",
      "\u001b[32m[I 2022-06-19 12:23:28,321]\u001b[0m Trial 328 finished with value: 0.5737577411764236 and parameters: {'n_estimators': 102, 'max_depth': 7, 'eta': 0.1, 'gamma': 4}. Best is trial 182 with value: 0.5880628943369597.\u001b[0m\n",
      "\u001b[32m[I 2022-06-19 12:23:36,505]\u001b[0m Trial 329 finished with value: 0.5733399406302633 and parameters: {'n_estimators': 118, 'max_depth': 8, 'eta': 0.1, 'gamma': 4}. Best is trial 182 with value: 0.5880628943369597.\u001b[0m\n",
      "\u001b[32m[I 2022-06-19 12:23:42,456]\u001b[0m Trial 330 finished with value: 0.551815954256488 and parameters: {'n_estimators': 83, 'max_depth': 8, 'eta': 0.3, 'gamma': 4}. Best is trial 182 with value: 0.5880628943369597.\u001b[0m\n",
      "\u001b[32m[I 2022-06-19 12:23:49,619]\u001b[0m Trial 331 finished with value: 0.5867919250799124 and parameters: {'n_estimators': 94, 'max_depth': 9, 'eta': 0.1, 'gamma': 4}. Best is trial 182 with value: 0.5880628943369597.\u001b[0m\n",
      "\u001b[32m[I 2022-06-19 12:23:56,113]\u001b[0m Trial 332 finished with value: 0.5864386823893858 and parameters: {'n_estimators': 90, 'max_depth': 8, 'eta': 0.1, 'gamma': 4}. Best is trial 182 with value: 0.5880628943369597.\u001b[0m\n",
      "\u001b[32m[I 2022-06-19 12:24:01,636]\u001b[0m Trial 333 finished with value: 0.5815405836143688 and parameters: {'n_estimators': 79, 'max_depth': 8, 'eta': 0.1, 'gamma': 4}. Best is trial 182 with value: 0.5880628943369597.\u001b[0m\n",
      "\u001b[32m[I 2022-06-19 12:24:08,820]\u001b[0m Trial 334 finished with value: 0.5669451844851674 and parameters: {'n_estimators': 92, 'max_depth': 9, 'eta': 0.2, 'gamma': 4}. Best is trial 182 with value: 0.5880628943369597.\u001b[0m\n",
      "\u001b[32m[I 2022-06-19 12:24:14,767]\u001b[0m Trial 335 finished with value: 0.5832820112865882 and parameters: {'n_estimators': 85, 'max_depth': 8, 'eta': 0.1, 'gamma': 4}. Best is trial 182 with value: 0.5880628943369597.\u001b[0m\n",
      "\u001b[32m[I 2022-06-19 12:24:21,357]\u001b[0m Trial 336 finished with value: 0.5868104007852937 and parameters: {'n_estimators': 95, 'max_depth': 8, 'eta': 0.1, 'gamma': 4}. Best is trial 182 with value: 0.5880628943369597.\u001b[0m\n",
      "\u001b[32m[I 2022-06-19 12:24:28,078]\u001b[0m Trial 337 finished with value: 0.5854535759110716 and parameters: {'n_estimators': 97, 'max_depth': 8, 'eta': 0.1, 'gamma': 4}. Best is trial 182 with value: 0.5880628943369597.\u001b[0m\n",
      "\u001b[32m[I 2022-06-19 12:24:34,720]\u001b[0m Trial 338 finished with value: 0.5857586893490827 and parameters: {'n_estimators': 96, 'max_depth': 8, 'eta': 0.1, 'gamma': 4}. Best is trial 182 with value: 0.5880628943369597.\u001b[0m\n",
      "\u001b[32m[I 2022-06-19 12:24:39,805]\u001b[0m Trial 339 finished with value: 0.5834279320530855 and parameters: {'n_estimators': 73, 'max_depth': 8, 'eta': 0.1, 'gamma': 4}. Best is trial 182 with value: 0.5880628943369597.\u001b[0m\n",
      "\u001b[32m[I 2022-06-19 12:24:47,837]\u001b[0m Trial 340 finished with value: 0.5855849828607403 and parameters: {'n_estimators': 105, 'max_depth': 9, 'eta': 0.1, 'gamma': 4}. Best is trial 182 with value: 0.5880628943369597.\u001b[0m\n",
      "\u001b[32m[I 2022-06-19 12:24:53,902]\u001b[0m Trial 341 finished with value: 0.5820757715480928 and parameters: {'n_estimators': 87, 'max_depth': 8, 'eta': 0.1, 'gamma': 4}. Best is trial 182 with value: 0.5880628943369597.\u001b[0m\n",
      "\u001b[32m[I 2022-06-19 12:24:56,572]\u001b[0m Trial 342 finished with value: 0.531408150566686 and parameters: {'n_estimators': 95, 'max_depth': 2, 'eta': 0.1, 'gamma': 4}. Best is trial 182 with value: 0.5880628943369597.\u001b[0m\n",
      "\u001b[32m[I 2022-06-19 12:25:03,642]\u001b[0m Trial 343 finished with value: 0.5810968795279945 and parameters: {'n_estimators': 102, 'max_depth': 8, 'eta': 0.1, 'gamma': 4}. Best is trial 182 with value: 0.5880628943369597.\u001b[0m\n",
      "\u001b[32m[I 2022-06-19 12:25:09,946]\u001b[0m Trial 344 finished with value: 0.5837586936571904 and parameters: {'n_estimators': 91, 'max_depth': 8, 'eta': 0.1, 'gamma': 4}. Best is trial 182 with value: 0.5880628943369597.\u001b[0m\n",
      "\u001b[32m[I 2022-06-19 12:25:15,546]\u001b[0m Trial 345 finished with value: 0.5786252116187192 and parameters: {'n_estimators': 80, 'max_depth': 8, 'eta': 0.15, 'gamma': 5}. Best is trial 182 with value: 0.5880628943369597.\u001b[0m\n",
      "\u001b[32m[I 2022-06-19 12:25:22,954]\u001b[0m Trial 346 finished with value: 0.5832053972404299 and parameters: {'n_estimators': 98, 'max_depth': 9, 'eta': 0.1, 'gamma': 4}. Best is trial 182 with value: 0.5880628943369597.\u001b[0m\n",
      "\u001b[32m[I 2022-06-19 12:25:33,833]\u001b[0m Trial 347 finished with value: 0.5660287470890724 and parameters: {'n_estimators': 158, 'max_depth': 8, 'eta': 0.1, 'gamma': 4}. Best is trial 182 with value: 0.5880628943369597.\u001b[0m\n",
      "\u001b[32m[I 2022-06-19 12:25:39,866]\u001b[0m Trial 348 finished with value: 0.5850622077661719 and parameters: {'n_estimators': 86, 'max_depth': 8, 'eta': 0.1, 'gamma': 4}. Best is trial 182 with value: 0.5880628943369597.\u001b[0m\n",
      "\u001b[32m[I 2022-06-19 12:25:46,690]\u001b[0m Trial 349 finished with value: 0.5742029923891186 and parameters: {'n_estimators': 108, 'max_depth': 7, 'eta': 0.1, 'gamma': 4}. Best is trial 182 with value: 0.5880628943369597.\u001b[0m\n",
      "\u001b[32m[I 2022-06-19 12:25:50,574]\u001b[0m Trial 350 finished with value: 0.5566563633161652 and parameters: {'n_estimators': 94, 'max_depth': 4, 'eta': 0.1, 'gamma': 4}. Best is trial 182 with value: 0.5880628943369597.\u001b[0m\n",
      "\u001b[32m[I 2022-06-19 12:25:56,918]\u001b[0m Trial 351 finished with value: 0.5837586936571904 and parameters: {'n_estimators': 91, 'max_depth': 8, 'eta': 0.1, 'gamma': 4}. Best is trial 182 with value: 0.5880628943369597.\u001b[0m\n",
      "\u001b[32m[I 2022-06-19 12:26:03,923]\u001b[0m Trial 352 finished with value: 0.581267823148364 and parameters: {'n_estimators': 101, 'max_depth': 8, 'eta': 0.1, 'gamma': 4}. Best is trial 182 with value: 0.5880628943369597.\u001b[0m\n",
      "\u001b[32m[I 2022-06-19 12:26:10,212]\u001b[0m Trial 353 finished with value: 0.579284484721112 and parameters: {'n_estimators': 83, 'max_depth': 9, 'eta': 0.1, 'gamma': 4}. Best is trial 182 with value: 0.5880628943369597.\u001b[0m\n",
      "\u001b[32m[I 2022-06-19 12:26:16,373]\u001b[0m Trial 354 finished with value: 0.5862082687590373 and parameters: {'n_estimators': 89, 'max_depth': 8, 'eta': 0.1, 'gamma': 4}. Best is trial 182 with value: 0.5880628943369597.\u001b[0m\n",
      "\u001b[32m[I 2022-06-19 12:26:21,663]\u001b[0m Trial 355 finished with value: 0.5800195414345437 and parameters: {'n_estimators': 76, 'max_depth': 8, 'eta': 0.1, 'gamma': 4}. Best is trial 182 with value: 0.5880628943369597.\u001b[0m\n",
      "\u001b[32m[I 2022-06-19 12:26:28,364]\u001b[0m Trial 356 finished with value: 0.5854535759110716 and parameters: {'n_estimators': 97, 'max_depth': 8, 'eta': 0.1, 'gamma': 4}. Best is trial 182 with value: 0.5880628943369597.\u001b[0m\n",
      "\u001b[32m[I 2022-06-19 12:26:37,000]\u001b[0m Trial 357 finished with value: 0.5271623798522126 and parameters: {'n_estimators': 112, 'max_depth': 9, 'eta': 0.3, 'gamma': 4}. Best is trial 182 with value: 0.5880628943369597.\u001b[0m\n",
      "\u001b[32m[I 2022-06-19 12:26:44,314]\u001b[0m Trial 358 finished with value: 0.5805705441535776 and parameters: {'n_estimators': 105, 'max_depth': 8, 'eta': 0.1, 'gamma': 4}. Best is trial 182 with value: 0.5880628943369597.\u001b[0m\n",
      "\u001b[32m[I 2022-06-19 12:26:48,782]\u001b[0m Trial 359 finished with value: 0.583563065019584 and parameters: {'n_estimators': 64, 'max_depth': 8, 'eta': 0.1, 'gamma': 4}. Best is trial 182 with value: 0.5880628943369597.\u001b[0m\n",
      "\u001b[32m[I 2022-06-19 12:26:54,688]\u001b[0m Trial 360 finished with value: 0.5832820112865882 and parameters: {'n_estimators': 85, 'max_depth': 8, 'eta': 0.1, 'gamma': 4}. Best is trial 182 with value: 0.5880628943369597.\u001b[0m\n",
      "\u001b[32m[I 2022-06-19 12:26:59,207]\u001b[0m Trial 361 finished with value: 0.5676155310542758 and parameters: {'n_estimators': 93, 'max_depth': 5, 'eta': 0.2, 'gamma': 4}. Best is trial 182 with value: 0.5880628943369597.\u001b[0m\n",
      "\u001b[32m[I 2022-06-19 12:27:06,197]\u001b[0m Trial 362 finished with value: 0.5822172969399365 and parameters: {'n_estimators': 100, 'max_depth': 8, 'eta': 0.1, 'gamma': 4}. Best is trial 182 with value: 0.5880628943369597.\u001b[0m\n",
      "\u001b[32m[I 2022-06-19 12:27:11,839]\u001b[0m Trial 363 finished with value: 0.5800870989260357 and parameters: {'n_estimators': 90, 'max_depth': 7, 'eta': 0.1, 'gamma': 4}. Best is trial 182 with value: 0.5880628943369597.\u001b[0m\n",
      "\u001b[32m[I 2022-06-19 12:27:17,990]\u001b[0m Trial 364 finished with value: 0.5781714974101805 and parameters: {'n_estimators': 81, 'max_depth': 9, 'eta': 0.1, 'gamma': 4}. Best is trial 182 with value: 0.5880628943369597.\u001b[0m\n",
      "\u001b[32m[I 2022-06-19 12:27:24,707]\u001b[0m Trial 365 finished with value: 0.5854535759110716 and parameters: {'n_estimators': 97, 'max_depth': 8, 'eta': 0.1, 'gamma': 4}. Best is trial 182 with value: 0.5880628943369597.\u001b[0m\n",
      "\u001b[32m[I 2022-06-19 12:27:30,806]\u001b[0m Trial 366 finished with value: 0.5826397744729663 and parameters: {'n_estimators': 88, 'max_depth': 8, 'eta': 0.1, 'gamma': 4}. Best is trial 182 with value: 0.5880628943369597.\u001b[0m\n",
      "\u001b[32m[I 2022-06-19 12:27:38,329]\u001b[0m Trial 367 finished with value: 0.5795016761878982 and parameters: {'n_estimators': 108, 'max_depth': 8, 'eta': 0.1, 'gamma': 4}. Best is trial 182 with value: 0.5880628943369597.\u001b[0m\n",
      "\u001b[32m[I 2022-06-19 12:27:45,434]\u001b[0m Trial 368 finished with value: 0.5810968795279945 and parameters: {'n_estimators': 102, 'max_depth': 8, 'eta': 0.1, 'gamma': 4}. Best is trial 182 with value: 0.5880628943369597.\u001b[0m\n",
      "\u001b[32m[I 2022-06-19 12:27:52,759]\u001b[0m Trial 369 finished with value: 0.5682921577277484 and parameters: {'n_estimators': 96, 'max_depth': 9, 'eta': 0.15, 'gamma': 4}. Best is trial 182 with value: 0.5880628943369597.\u001b[0m\n",
      "\u001b[32m[I 2022-06-19 12:27:57,446]\u001b[0m Trial 370 finished with value: 0.5764754085116961 and parameters: {'n_estimators': 84, 'max_depth': 6, 'eta': 0.1, 'gamma': 1}. Best is trial 182 with value: 0.5880628943369597.\u001b[0m\n",
      "\u001b[32m[I 2022-06-19 12:28:03,823]\u001b[0m Trial 371 finished with value: 0.5829326145077061 and parameters: {'n_estimators': 92, 'max_depth': 8, 'eta': 0.1, 'gamma': 4}. Best is trial 182 with value: 0.5880628943369597.\u001b[0m\n",
      "\u001b[32m[I 2022-06-19 12:28:06,468]\u001b[0m Trial 372 finished with value: 0.5385912146061742 and parameters: {'n_estimators': 75, 'max_depth': 3, 'eta': 0.1, 'gamma': 4}. Best is trial 182 with value: 0.5880628943369597.\u001b[0m\n",
      "\u001b[32m[I 2022-06-19 12:28:13,103]\u001b[0m Trial 373 finished with value: 0.5868104007852937 and parameters: {'n_estimators': 95, 'max_depth': 8, 'eta': 0.1, 'gamma': 4}. Best is trial 182 with value: 0.5880628943369597.\u001b[0m\n",
      "\u001b[32m[I 2022-06-19 12:28:20,828]\u001b[0m Trial 374 finished with value: 0.5872257832316816 and parameters: {'n_estimators': 102, 'max_depth': 9, 'eta': 0.1, 'gamma': 4}. Best is trial 182 with value: 0.5880628943369597.\u001b[0m\n",
      "\u001b[32m[I 2022-06-19 12:28:31,964]\u001b[0m Trial 375 finished with value: 0.5792477720546575 and parameters: {'n_estimators': 122, 'max_depth': 9, 'eta': 0.1, 'gamma': 4}. Best is trial 182 with value: 0.5880628943369597.\u001b[0m\n",
      "\u001b[32m[I 2022-06-19 12:28:40,885]\u001b[0m Trial 376 finished with value: 0.5786396784299281 and parameters: {'n_estimators': 113, 'max_depth': 9, 'eta': 0.1, 'gamma': 4}. Best is trial 182 with value: 0.5880628943369597.\u001b[0m\n",
      "\u001b[32m[I 2022-06-19 12:28:49,103]\u001b[0m Trial 377 finished with value: 0.5855849828607403 and parameters: {'n_estimators': 105, 'max_depth': 9, 'eta': 0.1, 'gamma': 4}. Best is trial 182 with value: 0.5880628943369597.\u001b[0m\n",
      "\u001b[32m[I 2022-06-19 12:28:59,662]\u001b[0m Trial 378 finished with value: 0.5864302842962166 and parameters: {'n_estimators': 101, 'max_depth': 9, 'eta': 0.1, 'gamma': 4}. Best is trial 182 with value: 0.5880628943369597.\u001b[0m\n",
      "\u001b[32m[I 2022-06-19 12:29:09,985]\u001b[0m Trial 379 finished with value: 0.5844326155506205 and parameters: {'n_estimators': 107, 'max_depth': 9, 'eta': 0.1, 'gamma': 4}. Best is trial 182 with value: 0.5880628943369597.\u001b[0m\n",
      "\u001b[32m[I 2022-06-19 12:29:17,856]\u001b[0m Trial 380 finished with value: 0.535324100685013 and parameters: {'n_estimators': 99, 'max_depth': 9, 'eta': 0.3, 'gamma': 4}. Best is trial 182 with value: 0.5880628943369597.\u001b[0m\n",
      "\u001b[32m[I 2022-06-19 12:29:29,267]\u001b[0m Trial 381 finished with value: 0.5734470627409808 and parameters: {'n_estimators': 144, 'max_depth': 9, 'eta': 0.1, 'gamma': 4}. Best is trial 182 with value: 0.5880628943369597.\u001b[0m\n",
      "\u001b[32m[I 2022-06-19 12:29:36,672]\u001b[0m Trial 382 finished with value: 0.5840878814155008 and parameters: {'n_estimators': 95, 'max_depth': 9, 'eta': 0.1, 'gamma': 4}. Best is trial 182 with value: 0.5880628943369597.\u001b[0m\n",
      "\u001b[32m[I 2022-06-19 12:29:46,325]\u001b[0m Trial 383 finished with value: 0.5806057149517807 and parameters: {'n_estimators': 110, 'max_depth': 10, 'eta': 0.1, 'gamma': 4}. Best is trial 182 with value: 0.5880628943369597.\u001b[0m\n",
      "\u001b[32m[I 2022-06-19 12:29:54,742]\u001b[0m Trial 384 finished with value: 0.5726943935962423 and parameters: {'n_estimators': 116, 'max_depth': 8, 'eta': 0.1, 'gamma': 4}. Best is trial 182 with value: 0.5880628943369597.\u001b[0m\n",
      "\u001b[32m[I 2022-06-19 12:29:56,610]\u001b[0m Trial 385 finished with value: 0.5601136228039045 and parameters: {'n_estimators': 20, 'max_depth': 7, 'eta': 0.1, 'gamma': 4}. Best is trial 182 with value: 0.5880628943369597.\u001b[0m\n",
      "\u001b[32m[I 2022-06-19 12:30:04,682]\u001b[0m Trial 386 finished with value: 0.5521316213843368 and parameters: {'n_estimators': 103, 'max_depth': 9, 'eta': 0.2, 'gamma': 5}. Best is trial 182 with value: 0.5880628943369597.\u001b[0m\n",
      "\u001b[32m[I 2022-06-19 12:30:12,074]\u001b[0m Trial 387 finished with value: 0.5857586893490827 and parameters: {'n_estimators': 96, 'max_depth': 8, 'eta': 0.1, 'gamma': 4}. Best is trial 182 with value: 0.5880628943369597.\u001b[0m\n",
      "\u001b[32m[I 2022-06-19 12:30:18,244]\u001b[0m Trial 388 finished with value: 0.5820757715480928 and parameters: {'n_estimators': 87, 'max_depth': 8, 'eta': 0.1, 'gamma': 4}. Best is trial 182 with value: 0.5880628943369597.\u001b[0m\n",
      "\u001b[32m[I 2022-06-19 12:30:25,280]\u001b[0m Trial 389 finished with value: 0.5841916846811974 and parameters: {'n_estimators': 99, 'max_depth': 8, 'eta': 0.1, 'gamma': 4}. Best is trial 182 with value: 0.5880628943369597.\u001b[0m\n",
      "\u001b[32m[I 2022-06-19 12:30:32,641]\u001b[0m Trial 390 finished with value: 0.5867919250799124 and parameters: {'n_estimators': 94, 'max_depth': 9, 'eta': 0.1, 'gamma': 4}. Best is trial 182 with value: 0.5880628943369597.\u001b[0m\n",
      "\u001b[32m[I 2022-06-19 12:30:40,529]\u001b[0m Trial 391 finished with value: 0.585788329766093 and parameters: {'n_estimators': 103, 'max_depth': 9, 'eta': 0.1, 'gamma': 4}. Best is trial 182 with value: 0.5880628943369597.\u001b[0m\n",
      "\u001b[32m[I 2022-06-19 12:30:48,008]\u001b[0m Trial 392 finished with value: 0.5840878814155008 and parameters: {'n_estimators': 95, 'max_depth': 9, 'eta': 0.1, 'gamma': 4}. Best is trial 182 with value: 0.5880628943369597.\u001b[0m\n",
      "\u001b[32m[I 2022-06-19 12:30:56,862]\u001b[0m Trial 393 finished with value: 0.5855023707954725 and parameters: {'n_estimators': 106, 'max_depth': 9, 'eta': 0.1, 'gamma': 4}. Best is trial 182 with value: 0.5880628943369597.\u001b[0m\n",
      "\u001b[32m[I 2022-06-19 12:31:04,418]\u001b[0m Trial 394 finished with value: 0.5867919250799124 and parameters: {'n_estimators': 94, 'max_depth': 9, 'eta': 0.1, 'gamma': 4}. Best is trial 182 with value: 0.5880628943369597.\u001b[0m\n",
      "\u001b[32m[I 2022-06-19 12:31:12,223]\u001b[0m Trial 395 finished with value: 0.5653277764172712 and parameters: {'n_estimators': 100, 'max_depth': 9, 'eta': 0.15, 'gamma': 4}. Best is trial 182 with value: 0.5880628943369597.\u001b[0m\n",
      "\u001b[32m[I 2022-06-19 12:31:22,452]\u001b[0m Trial 396 finished with value: 0.5817625204404514 and parameters: {'n_estimators': 109, 'max_depth': 9, 'eta': 0.1, 'gamma': 4}. Best is trial 182 with value: 0.5880628943369597.\u001b[0m\n",
      "\u001b[32m[I 2022-06-19 12:31:33,529]\u001b[0m Trial 397 finished with value: 0.5840878814155008 and parameters: {'n_estimators': 95, 'max_depth': 9, 'eta': 0.1, 'gamma': 4}. Best is trial 182 with value: 0.5880628943369597.\u001b[0m\n",
      "\u001b[32m[I 2022-06-19 12:31:40,257]\u001b[0m Trial 398 finished with value: 0.5783086712744427 and parameters: {'n_estimators': 82, 'max_depth': 9, 'eta': 0.1, 'gamma': 4}. Best is trial 182 with value: 0.5880628943369597.\u001b[0m\n",
      "\u001b[32m[I 2022-06-19 12:31:47,772]\u001b[0m Trial 399 finished with value: 0.5836319019925245 and parameters: {'n_estimators': 93, 'max_depth': 9, 'eta': 0.1, 'gamma': 4}. Best is trial 182 with value: 0.5880628943369597.\u001b[0m\n"
     ]
    }
   ],
   "source": [
    "# optimise\n",
    "study = optuna.create_study(direction=\"maximize\")\n",
    "study.optimize(objective, n_trials=400)"
   ]
  },
  {
   "cell_type": "code",
   "execution_count": 21,
   "id": "3c32b40d-73b5-44fb-b927-3100dd2df3a2",
   "metadata": {},
   "outputs": [
    {
     "name": "stdout",
     "output_type": "stream",
     "text": [
      "Best value: 0.5880628943369597\n",
      "Best parameters: {'n_estimators': 93, 'max_depth': 8, 'eta': 0.1, 'gamma': 4}\n"
     ]
    }
   ],
   "source": [
    "# print(f'Best trial: {study.best_trial}')\n",
    "print(f'Best value: {study.best_value}')\n",
    "print(f'Best parameters: {study.best_params}')"
   ]
  },
  {
   "cell_type": "markdown",
   "id": "cbfd04a5-1e62-4b11-8987-2014bb62b227",
   "metadata": {},
   "source": [
    "# fitting optimised model"
   ]
  },
  {
   "cell_type": "code",
   "execution_count": 28,
   "id": "ae23baca-7122-4b63-804c-f326c5280004",
   "metadata": {},
   "outputs": [
    {
     "data": {
      "text/plain": [
       "XGBClassifier(base_score=0.5, booster='gbtree', callbacks=None,\n",
       "              colsample_bylevel=1, colsample_bynode=1, colsample_bytree=1,\n",
       "              early_stopping_rounds=None, enable_categorical=False, eta=0.1,\n",
       "              eval_metric=None, gamma=4, gpu_id=-1, grow_policy='depthwise',\n",
       "              importance_type=None, interaction_constraints='',\n",
       "              learning_rate=0.100000001, max_bin=256, max_cat_to_onehot=4,\n",
       "              max_delta_step=0, max_depth=8, max_leaves=0, min_child_weight=1,\n",
       "              missing=nan, monotone_constraints='()', n_estimators=93, n_jobs=0,\n",
       "              num_parallel_tree=1, predictor='auto', random_state=0,\n",
       "              reg_alpha=0, ...)"
      ]
     },
     "execution_count": 28,
     "metadata": {},
     "output_type": "execute_result"
    }
   ],
   "source": [
    "# define model\n",
    "from xgboost import XGBClassifier\n",
    "model = XGBClassifier(\n",
    "    n_estimators=93,\n",
    "    eta=0.1,\n",
    "    gamma=4,\n",
    "    max_depth=8,\n",
    "    reg_lambda=1,\n",
    "    reg_alpha=0,\n",
    "    subsample=0.5,\n",
    "    scale_pos_weight=xgb_weight,\n",
    "    objective='binary:logistic'   \n",
    ")\n",
    "\n",
    "# fit model\n",
    "model.fit(\n",
    "    X_train,\n",
    "    y_train,\n",
    "    verbose=False\n",
    ")"
   ]
  },
  {
   "cell_type": "code",
   "execution_count": 29,
   "id": "393ad130-26b1-47a5-aa1c-5c28a9c65d65",
   "metadata": {},
   "outputs": [
    {
     "name": "stdout",
     "output_type": "stream",
     "text": [
      "Accuracy: 0.9275666936135812\n",
      "Precision: 0.259765625\n",
      "Recall: 0.6584158415841584\n",
      "F1: 0.37254901960784315\n",
      "F2: 0.5037878787878788\n"
     ]
    },
    {
     "data": {
      "text/plain": [
       "<matplotlib.axes._subplots.AxesSubplot at 0x7f1612d71220>"
      ]
     },
     "execution_count": 29,
     "metadata": {},
     "output_type": "execute_result"
    },
    {
     "data": {
      "image/png": "[encoded data removed]",
      "text/plain": [
       "<Figure size 576x396 with 2 Axes>"
      ]
     },
     "metadata": {},
     "output_type": "display_data"
    }
   ],
   "source": [
    "from sklearn.metrics import confusion_matrix, accuracy_score, recall_score, precision_score, f1_score, fbeta_score\n",
    "y_pred = model.predict(X_test)\n",
    "\n",
    "print(f'Accuracy: {accuracy_score(y_test, y_pred)}')\n",
    "print(f'Precision: {precision_score(y_test, y_pred)}')\n",
    "print(f'Recall: {recall_score(y_test, y_pred)}')\n",
    "print(f'F1: {f1_score(y_test, y_pred)}')\n",
    "print(f'F2: {fbeta_score(y_test, y_pred, beta=2)}')\n",
    "\n",
    "cm = confusion_matrix(y_test, y_pred, normalize='all')\n",
    "sns.heatmap(cm, annot=True, square=True)"
   ]
  },
  {
   "cell_type": "code",
   "execution_count": 30,
   "id": "09abdaf5-a6c5-410a-9c87-a36774b04ec4",
   "metadata": {},
   "outputs": [
    {
     "data": {
      "image/png": "[encoded data removed]",
      "text/plain": [
       "<Figure size 1440x720 with 2 Axes>"
      ]
     },
     "metadata": {},
     "output_type": "display_data"
    },
    {
     "name": "stdout",
     "output_type": "stream",
     "text": [
      "0.9094112361261197\n"
     ]
    }
   ],
   "source": [
    "from sklearn.metrics import roc_curve, auc, precision_recall_curve\n",
    "y_pred_prob = model.predict_proba(X_test)[:, 1]\n",
    "\n",
    "# fpr, tpr, _ = roc_curve(y_test, y_pred)\n",
    "# precision, recall, _ = precision_recall_curve(y_test, y_pred)\n",
    "\n",
    "fpr, tpr, _ = roc_curve(y_test, y_pred_prob)\n",
    "precision, recall, _ = precision_recall_curve(y_test, y_pred_prob)\n",
    "\n",
    "fig, ax = plt.subplots(1, 2, figsize=(20, 10))\n",
    "\n",
    "ax[0].plot(fpr, tpr, 'b')\n",
    "ax[0].plot([0, 1], [0, 1], 'r--')\n",
    "ax[0].set_ylabel('True Positive Rate')\n",
    "ax[0].set_xlabel('False Positive Rate')\n",
    "\n",
    "ax[1].plot(recall, precision, 'b')\n",
    "ax[1].set_xlabel('Recall')\n",
    "ax[1].set_ylabel('Precision')\n",
    "\n",
    "plt.show()\n",
    "roc_auc = auc(fpr, tpr)\n",
    "print(roc_auc)"
   ]
  },
  {
   "cell_type": "code",
   "execution_count": null,
   "id": "0e46ecc8-f8eb-4734-afeb-f67e74592ced",
   "metadata": {},
   "outputs": [],
   "source": []
  }
 ],
 "metadata": {
  "kernelspec": {
   "display_name": "Python 3 (ipykernel)",
   "language": "python",
   "name": "python3"
  },
  "language_info": {
   "codemirror_mode": {
    "name": "ipython",
    "version": 3
   },
   "file_extension": ".py",
   "mimetype": "text/x-python",
   "name": "python",
   "nbconvert_exporter": "python",
   "pygments_lexer": "ipython3",
   "version": "3.8.10"
  }
 },
 "nbformat": 4,
 "nbformat_minor": 5
}
