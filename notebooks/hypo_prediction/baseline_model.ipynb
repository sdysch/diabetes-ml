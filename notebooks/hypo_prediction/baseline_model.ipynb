{
 "cells": [
  {
   "cell_type": "markdown",
   "id": "2b49ad0b-7847-493a-969e-955c8f882a98",
   "metadata": {},
   "source": [
    "# Simple baseline model"
   ]
  },
  {
   "cell_type": "code",
   "execution_count": 1,
   "id": "62a0bab3-37a4-47ac-bb41-a87a1fb36874",
   "metadata": {},
   "outputs": [],
   "source": [
    "import pandas as pd\n",
    "import numpy as np\n",
    "import matplotlib.pyplot as plt\n",
    "import seaborn as sns"
   ]
  },
  {
   "cell_type": "code",
   "execution_count": 2,
   "id": "003da1a9-e79c-468f-9fd5-c245f559643b",
   "metadata": {},
   "outputs": [],
   "source": [
    "plt.style.use('seaborn')"
   ]
  },
  {
   "cell_type": "markdown",
   "id": "f2e99833-1835-411a-a394-3be14e5ccfc0",
   "metadata": {},
   "source": [
    "# Data preparation"
   ]
  },
  {
   "cell_type": "code",
   "execution_count": 3,
   "id": "d929f16d-4900-4550-8e3b-c6a3f3effc75",
   "metadata": {},
   "outputs": [
    {
     "name": "stderr",
     "output_type": "stream",
     "text": [
      "/home/sdysch/.local/lib/python3.8/site-packages/IPython/core/interactiveshell.py:3169: DtypeWarning: Columns (13) have mixed types.Specify dtype option on import or set low_memory=False.\n",
      "  has_raised = await self.run_ast_nodes(code_ast.body, cell_name,\n"
     ]
    }
   ],
   "source": [
    "data = pd.read_csv('../../data/SamDysch_glucose_2-5-2022.csv', skiprows=[0])\n",
    "data.index = pd.to_datetime(data['Device Timestamp'], format=\"%d-%m-%Y %H:%M\")"
   ]
  },
  {
   "cell_type": "code",
   "execution_count": 4,
   "id": "213a1d1e-e074-4652-9de7-5c67c8eabe73",
   "metadata": {},
   "outputs": [
    {
     "data": {
      "text/html": [
       "<div>\n",
       "<style scoped>\n",
       "    .dataframe tbody tr th:only-of-type {\n",
       "        vertical-align: middle;\n",
       "    }\n",
       "\n",
       "    .dataframe tbody tr th {\n",
       "        vertical-align: top;\n",
       "    }\n",
       "\n",
       "    .dataframe thead th {\n",
       "        text-align: right;\n",
       "    }\n",
       "</style>\n",
       "<table border=\"1\" class=\"dataframe\">\n",
       "  <thead>\n",
       "    <tr style=\"text-align: right;\">\n",
       "      <th></th>\n",
       "      <th>reading</th>\n",
       "    </tr>\n",
       "    <tr>\n",
       "      <th>Device Timestamp</th>\n",
       "      <th></th>\n",
       "    </tr>\n",
       "  </thead>\n",
       "  <tbody>\n",
       "    <tr>\n",
       "      <th>2019-12-09 19:04:00</th>\n",
       "      <td>6.8</td>\n",
       "    </tr>\n",
       "    <tr>\n",
       "      <th>2019-12-09 19:20:00</th>\n",
       "      <td>7.6</td>\n",
       "    </tr>\n",
       "    <tr>\n",
       "      <th>2019-12-09 19:35:00</th>\n",
       "      <td>7.7</td>\n",
       "    </tr>\n",
       "    <tr>\n",
       "      <th>2019-12-09 19:50:00</th>\n",
       "      <td>7.2</td>\n",
       "    </tr>\n",
       "    <tr>\n",
       "      <th>2019-12-09 20:05:00</th>\n",
       "      <td>5.8</td>\n",
       "    </tr>\n",
       "  </tbody>\n",
       "</table>\n",
       "</div>"
      ],
      "text/plain": [
       "                     reading\n",
       "Device Timestamp            \n",
       "2019-12-09 19:04:00      6.8\n",
       "2019-12-09 19:20:00      7.6\n",
       "2019-12-09 19:35:00      7.7\n",
       "2019-12-09 19:50:00      7.2\n",
       "2019-12-09 20:05:00      5.8"
      ]
     },
     "execution_count": 4,
     "metadata": {},
     "output_type": "execute_result"
    }
   ],
   "source": [
    "# drop non-historic glucose records\n",
    "data = data[data['Record Type'] == 0]\n",
    "\n",
    "# only keep bg\n",
    "to_keep = [\n",
    "    'Historic Glucose mmol/L',\n",
    "]\n",
    "data = data[to_keep]\n",
    "\n",
    "data = data.rename(columns={'Historic Glucose mmol/L': 'reading'})\n",
    "\n",
    "data.head()"
   ]
  },
  {
   "cell_type": "code",
   "execution_count": 5,
   "id": "b9366525-6fc9-4035-aa9c-0d04ae839611",
   "metadata": {},
   "outputs": [],
   "source": [
    "# drop NaNs\n",
    "data = data.dropna()"
   ]
  },
  {
   "cell_type": "markdown",
   "id": "273a26dc-f5d7-4db3-8644-836a9aa3520f",
   "metadata": {},
   "source": [
    "# Setup hypo threshold"
   ]
  },
  {
   "cell_type": "code",
   "execution_count": 7,
   "id": "df3e5259-be75-465f-8557-c4b21cfdec2a",
   "metadata": {},
   "outputs": [],
   "source": [
    "HYPO_THRESHOLD = 3.9\n",
    "data['is_hypo'] = (data['reading'] < HYPO_THRESHOLD).astype(int)"
   ]
  },
  {
   "cell_type": "code",
   "execution_count": 12,
   "id": "c091b822-af1d-477a-8e6e-1b72359882e1",
   "metadata": {},
   "outputs": [],
   "source": [
    "# adding some time variables\n",
    "data['hour'] = data.index.hour\n",
    "data['day'] = data.index.dayofweek\n",
    "data['month'] = data.index.month"
   ]
  },
  {
   "cell_type": "markdown",
   "id": "6cb38623-76ac-4eb3-979f-d0c1b9c73aff",
   "metadata": {},
   "source": [
    "# OneHotEncode hours"
   ]
  },
  {
   "cell_type": "code",
   "execution_count": 16,
   "id": "9f49eebf-8525-4d40-8657-87d19172759c",
   "metadata": {},
   "outputs": [
    {
     "name": "stdout",
     "output_type": "stream",
     "text": [
      "Index(['reading', 'is_hypo', 'day', 'month', 'hour_0', 'hour_1', 'hour_2',\n",
      "       'hour_3', 'hour_4', 'hour_5', 'hour_6', 'hour_7', 'hour_8', 'hour_9',\n",
      "       'hour_10', 'hour_11', 'hour_12', 'hour_13', 'hour_14', 'hour_15',\n",
      "       'hour_16', 'hour_17', 'hour_18', 'hour_19', 'hour_20', 'hour_21',\n",
      "       'hour_22', 'hour_23'],\n",
      "      dtype='object')\n"
     ]
    }
   ],
   "source": [
    "data = pd.get_dummies(data, prefix='hour', columns=['hour'])\n",
    "print(data.columns)"
   ]
  },
  {
   "cell_type": "markdown",
   "id": "32b1f8f0-a9cc-41d7-920f-2e7d84082a90",
   "metadata": {
    "tags": []
   },
   "source": [
    "# creating a lagged and rolling variables\n",
    "* Was I hypo 15 mins ago? 30 mins ago? Etc\n",
    "* Rolling average of last N readings\n",
    "* Sign of gradient of last N readings:\n",
    "    * I.e., is BG rising, falling, or stable?\n",
    "    \n",
    "## Lagged features"
   ]
  },
  {
   "cell_type": "code",
   "execution_count": 17,
   "id": "359843e6-8662-4e1a-80cb-d8c445f2bb97",
   "metadata": {},
   "outputs": [
    {
     "name": "stdout",
     "output_type": "stream",
     "text": [
      "Creating lag of 15 minutes\n",
      "Creating lag of 30 minutes\n",
      "Creating lag of 45 minutes\n",
      "Creating lag of 60 minutes\n",
      "Creating lag of 75 minutes\n",
      "Creating lag of 90 minutes\n",
      "Creating lag of 105 minutes\n"
     ]
    }
   ],
   "source": [
    "# create lags\n",
    "# To ensure that we do not make a lag between periods of sensor non-usage, create a new df with the lagged indices & merge onto original data frame\n",
    "def create_lag(df, lag):\n",
    "    tolerance = 15 * lag\n",
    "    freq = '15min'\n",
    "    print(f'Creating lag of {tolerance} minutes')\n",
    "    lagged_copy = df[['reading']].shift(lag, freq=freq)\n",
    "    lagged_copy.rename(columns={'reading': f'lagged_reading_{lag}'}, inplace=True)\n",
    "    \n",
    "    merged = pd.merge_asof(df, lagged_copy, left_index=True, right_index=True, direction='backward', tolerance=pd.Timedelta(minutes=tolerance))\n",
    "    # merged = pd.merge_asof(copy, lagged_copy, left_index=True, right_index=True, direction='backward')\n",
    "    return merged\n",
    "\n",
    "NLAGS = 8\n",
    "for lag in range(1, NLAGS):\n",
    "    data = create_lag(data, lag)"
   ]
  },
  {
   "cell_type": "code",
   "execution_count": 20,
   "id": "23fa784d-f531-49d4-99b7-1e309b79f28b",
   "metadata": {},
   "outputs": [],
   "source": [
    "# For ease of variable calculation, drop the nans\n",
    "data = data.dropna()"
   ]
  },
  {
   "cell_type": "code",
   "execution_count": 21,
   "id": "6d02a6f1-2e92-498d-be54-dbdda05a3868",
   "metadata": {},
   "outputs": [],
   "source": [
    "# lagged hypo bools\n",
    "for lag in range(1, NLAGS):\n",
    "    data[f'is_lagged_hypo_{lag}'] = (data[f'lagged_reading_{lag}'] < HYPO_THRESHOLD).astype(int)"
   ]
  },
  {
   "cell_type": "markdown",
   "id": "604a4d64-7c8b-470d-b92e-f4f8cbe5e0aa",
   "metadata": {},
   "source": [
    "## Rolling features"
   ]
  },
  {
   "cell_type": "code",
   "execution_count": 23,
   "id": "85a1b0d0-82af-4ff5-b78d-59841342bdc8",
   "metadata": {},
   "outputs": [],
   "source": [
    "# simple differences of lags - was reading higher, lower, or stable?\n",
    "for lag in range(2, NLAGS):\n",
    "    data[f'diff_{lag}'] = data['lagged_reading_1'] - data[f'lagged_reading_{lag}']\n",
    "\n",
    "# gradients - how quick is BG changing?\n",
    "interval = 15\n",
    "for lag in range(2, NLAGS):\n",
    "    data[f'rate_{lag}'] = data[f'diff_{lag}'] / (interval * lag)"
   ]
  },
  {
   "cell_type": "markdown",
   "id": "ea8a143a-9724-48c4-b8db-2b97979b4800",
   "metadata": {},
   "source": [
    "## train, test, validation split"
   ]
  },
  {
   "cell_type": "code",
   "execution_count": 25,
   "id": "f003d6b3-3208-40e0-80d4-9cb98f4f32dd",
   "metadata": {},
   "outputs": [],
   "source": [
    "TRAIN_SPLIT = 0.65\n",
    "VAL_SPLIT = 0.2\n",
    "TEST_SPLIT = 0.15"
   ]
  },
  {
   "cell_type": "code",
   "execution_count": 26,
   "id": "385638b2-47bf-4e2c-8d9d-0355b3135aee",
   "metadata": {},
   "outputs": [],
   "source": [
    "itrain = int(TRAIN_SPLIT * len(data))\n",
    "ival = int(VAL_SPLIT * len(data))\n",
    "itest = int(TEST_SPLIT * len(data))\n",
    "\n",
    "train_data = data.iloc[:itrain]\n",
    "val_data = data.iloc[itrain:itrain + ival]\n",
    "test_data = data.iloc[itrain + ival:]"
   ]
  },
  {
   "cell_type": "markdown",
   "id": "eb2abc52-3a4e-410f-9c78-05b539862c8d",
   "metadata": {},
   "source": [
    "# Baseline model"
   ]
  },
  {
   "cell_type": "code",
   "execution_count": 29,
   "id": "e94c5592-41b6-4680-8de7-1740b2aab2df",
   "metadata": {},
   "outputs": [
    {
     "name": "stdout",
     "output_type": "stream",
     "text": [
      "Accuracy: 0.9631366208569119\n",
      "Precision: 0.43564356435643564\n",
      "Recall: 0.43564356435643564\n",
      "F1: 0.43564356435643564\n"
     ]
    },
    {
     "data": {
      "text/plain": [
       "<matplotlib.axes._subplots.AxesSubplot at 0x7fb4616efd60>"
      ]
     },
     "execution_count": 29,
     "metadata": {},
     "output_type": "execute_result"
    },
    {
     "data": {
      "image/png": "[encoded data removed]",
      "text/plain": [
       "<Figure size 576x396 with 2 Axes>"
      ]
     },
     "metadata": {},
     "output_type": "display_data"
    }
   ],
   "source": [
    "# Simplest thing to do, was I hypo 45 mins ago?\n",
    "y_baseline_test = test_data['is_hypo']\n",
    "y_baseline_pred = test_data['is_lagged_hypo_3']\n",
    "\n",
    "# metrics\n",
    "from sklearn.metrics import confusion_matrix, accuracy_score, recall_score, precision_score, f1_score\n",
    "print(f'Accuracy: {accuracy_score(y_baseline_test, y_baseline_pred)}')\n",
    "print(f'Precision: {precision_score(y_baseline_test, y_baseline_pred)}')\n",
    "print(f'Recall: {recall_score(y_baseline_test, y_baseline_pred)}')\n",
    "print(f'F1: {f1_score(y_baseline_test, y_baseline_pred)}')\n",
    "\n",
    "cm = confusion_matrix(y_baseline_test, y_baseline_pred, normalize='all')\n",
    "sns.heatmap(cm, annot=True, square=True)"
   ]
  }
 ],
 "metadata": {
  "kernelspec": {
   "display_name": "Python 3 (ipykernel)",
   "language": "python",
   "name": "python3"
  },
  "language_info": {
   "codemirror_mode": {
    "name": "ipython",
    "version": 3
   },
   "file_extension": ".py",
   "mimetype": "text/x-python",
   "name": "python",
   "nbconvert_exporter": "python",
   "pygments_lexer": "ipython3",
   "version": "3.8.10"
  }
 },
 "nbformat": 4,
 "nbformat_minor": 5
}
